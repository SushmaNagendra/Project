{
 "cells": [
  {
   "cell_type": "code",
   "execution_count": 2,
   "metadata": {},
   "outputs": [],
   "source": [
    "import findspark\n",
    "findspark.init('/home/ubuntu/spark-2.1.1-bin-hadoop2.7')\n",
    "import pyspark\n",
    "from pyspark.sql import SparkSession\n",
    "spark = SparkSession.builder.appName('basics').getOrCreate()\n",
    "spark = SparkSession.builder.appName('missing').getOrCreate()"
   ]
  },
  {
   "cell_type": "code",
   "execution_count": 3,
   "metadata": {},
   "outputs": [],
   "source": [
    "df = spark.read.csv(\"./Suicides in India 2001-2012.csv\")"
   ]
  },
  {
   "cell_type": "code",
   "execution_count": 4,
   "metadata": {},
   "outputs": [
    {
     "name": "stdout",
     "output_type": "stream",
     "text": [
      "+-------------+----+---------+--------------------+------+---------+-----+\n",
      "|          _c0| _c1|      _c2|                 _c3|   _c4|      _c5|  _c6|\n",
      "+-------------+----+---------+--------------------+------+---------+-----+\n",
      "|        State|Year|Type_code|                Type|Gender|Age_group|Total|\n",
      "|A & N Islands|2001|   Causes|  Illness (Aids/STD)|Female|     0-14|    0|\n",
      "|A & N Islands|2001|   Causes|Bankruptcy or Sud...|Female|     0-14|    0|\n",
      "|A & N Islands|2001|   Causes|Cancellation/Non-...|Female|     0-14|    0|\n",
      "|A & N Islands|2001|   Causes|Physical Abuse (R...|Female|     0-14|    0|\n",
      "|A & N Islands|2001|   Causes|       Dowry Dispute|Female|     0-14|    0|\n",
      "|A & N Islands|2001|   Causes|     Family Problems|Female|     0-14|    0|\n",
      "|A & N Islands|2001|   Causes|Ideological Cause...|Female|     0-14|    0|\n",
      "|A & N Islands|2001|   Causes|Other Prolonged I...|Female|     0-14|    0|\n",
      "|A & N Islands|2001|   Causes|    Property Dispute|Female|     0-14|    0|\n",
      "|A & N Islands|2001|   Causes|Fall in Social Re...|Female|     0-14|    0|\n",
      "|A & N Islands|2001|   Causes|Illegitimate Preg...|Female|     0-14|    0|\n",
      "|A & N Islands|2001|   Causes|Failure in Examin...|Female|     0-14|    0|\n",
      "|A & N Islands|2001|   Causes|Insanity/Mental I...|Female|     0-14|    0|\n",
      "|A & N Islands|2001|   Causes|        Love Affairs|Female|     0-14|    1|\n",
      "|A & N Islands|2001|   Causes|Professional/Care...|Female|     0-14|    0|\n",
      "|A & N Islands|2001|   Causes|             Divorce|Female|     0-14|    0|\n",
      "|A & N Islands|2001|   Causes|Drug Abuse/Addiction|Female|     0-14|    0|\n",
      "|A & N Islands|2001|   Causes|Not having Childr...|Female|     0-14|    0|\n",
      "|A & N Islands|2001|   Causes|    Causes Not known|Female|     0-14|    0|\n",
      "+-------------+----+---------+--------------------+------+---------+-----+\n",
      "only showing top 20 rows\n",
      "\n"
     ]
    }
   ],
   "source": [
    "df.show()"
   ]
  },
  {
   "cell_type": "code",
   "execution_count": 5,
   "metadata": {},
   "outputs": [
    {
     "data": {
      "text/plain": [
       "<bound method DataFrame.describe of DataFrame[_c0: string, _c1: string, _c2: string, _c3: string, _c4: string, _c5: string, _c6: string]>"
      ]
     },
     "execution_count": 5,
     "metadata": {},
     "output_type": "execute_result"
    }
   ],
   "source": [
    "df.describe"
   ]
  },
  {
   "cell_type": "code",
   "execution_count": 6,
   "metadata": {},
   "outputs": [],
   "source": [
    "dg = spark.read.csv(\"./Suicides in India1 2001-2012.csv\")"
   ]
  },
  {
   "cell_type": "code",
   "execution_count": 7,
   "metadata": {},
   "outputs": [
    {
     "name": "stdout",
     "output_type": "stream",
     "text": [
      "+-------------+----+---------+--------------------+------+---------+-----+\n",
      "|          _c0| _c1|      _c2|                 _c3|   _c4|      _c5|  _c6|\n",
      "+-------------+----+---------+--------------------+------+---------+-----+\n",
      "|        State|Year|Type_code|                Type|Gender|Age_group|Total|\n",
      "|A & N Islands|2001|   Causes|  Illness (Aids/STD)|Female|     0-14|    0|\n",
      "|A & N Islands|2001|   Causes|Bankruptcy or Sud...|Female|     0-14|    0|\n",
      "|A & N Islands|2001|   Causes|Cancellation/Non-...|Female|     0-14|    0|\n",
      "|A & N Islands|2001|   Causes|Physical Abuse (R...|Female|     0-14|    0|\n",
      "|A & N Islands|2001|   Causes|       Dowry Dispute|Female|     0-14|    0|\n",
      "|A & N Islands|2001|   Causes|                null|Female|     0-14|    0|\n",
      "|A & N Islands|2001|   Causes|Ideological Cause...|Female|     0-14|    0|\n",
      "|A & N Islands|2001|   Causes|Other Prolonged I...|Female|     0-14|    0|\n",
      "|A & N Islands|2001|   Causes|    Property Dispute|Female|     0-14|    0|\n",
      "|A & N Islands|2001|   Causes|Fall in Social Re...|Female|     0-14|    0|\n",
      "|A & N Islands|2001|   Causes|Illegitimate Preg...|Female|     0-14|    0|\n",
      "|A & N Islands|2001|   Causes|Failure in Examin...|Female|     0-14|    0|\n",
      "|A & N Islands|2001|   Causes|Insanity/Mental I...|Female|     0-14|    0|\n",
      "|A & N Islands|2001|   Causes|                null|Female|     0-14| null|\n",
      "|A & N Islands|2001|   Causes|Professional/Care...|Female|     0-14|    0|\n",
      "|A & N Islands|2001|   Causes|             Divorce|Female|     0-14|    0|\n",
      "|A & N Islands|2001|   Causes|Drug Abuse/Addiction|Female|     0-14|    0|\n",
      "|A & N Islands|2001|   Causes|Not having Childr...|Female|     0-14|    0|\n",
      "|A & N Islands|2001|   Causes|    Causes Not known|Female|     0-14|    0|\n",
      "+-------------+----+---------+--------------------+------+---------+-----+\n",
      "only showing top 20 rows\n",
      "\n"
     ]
    }
   ],
   "source": [
    "dg.show()"
   ]
  },
  {
   "cell_type": "code",
   "execution_count": 8,
   "metadata": {},
   "outputs": [
    {
     "name": "stdout",
     "output_type": "stream",
     "text": [
      "root\n",
      " |-- _c0: string (nullable = true)\n",
      " |-- _c1: string (nullable = true)\n",
      " |-- _c2: string (nullable = true)\n",
      " |-- _c3: string (nullable = true)\n",
      " |-- _c4: string (nullable = true)\n",
      " |-- _c5: string (nullable = true)\n",
      " |-- _c6: string (nullable = true)\n",
      "\n"
     ]
    }
   ],
   "source": [
    "dg.printSchema()"
   ]
  },
  {
   "cell_type": "code",
   "execution_count": 9,
   "metadata": {},
   "outputs": [
    {
     "name": "stdout",
     "output_type": "stream",
     "text": [
      "+-------+-------------+------------------+---------+--------------------+------+---------+------------------+\n",
      "|summary|          _c0|               _c1|      _c2|                 _c3|   _c4|      _c5|               _c6|\n",
      "+-------+-------------+------------------+---------+--------------------+------+---------+------------------+\n",
      "|  count|       237520|            237520|   237520|              237520|237520|   237520|            237520|\n",
      "|   mean|         null| 2006.500448385182|     null|                null|  null|     null|55.034704738167214|\n",
      "| stddev|         null|3.4522396568581026|     null|                null|  null|     null| 792.7506994191377|\n",
      "|    min|A & N Islands|              2001|   Causes|Bankruptcy or Sud...|Female|   0-100+|                 0|\n",
      "|    max|  West Bengal|              Year|Type_code|                null|  Male|Age_group|              null|\n",
      "+-------+-------------+------------------+---------+--------------------+------+---------+------------------+\n",
      "\n"
     ]
    }
   ],
   "source": [
    "dg.describe().show()"
   ]
  },
  {
   "cell_type": "code",
   "execution_count": 10,
   "metadata": {},
   "outputs": [],
   "source": [
    "dg1 = dg.na.drop()"
   ]
  },
  {
   "cell_type": "code",
   "execution_count": 78,
   "metadata": {},
   "outputs": [
    {
     "name": "stdout",
     "output_type": "stream",
     "text": [
      "+-------------+----+---------+--------------------+------+---------+-----+\n",
      "|          _c0| _c1|      _c2|                 _c3|   _c4|      _c5|  _c6|\n",
      "+-------------+----+---------+--------------------+------+---------+-----+\n",
      "|        State|Year|Type_code|                Type|Gender|Age_group|Total|\n",
      "|A & N Islands|2001|   Causes|  Illness (Aids/STD)|Female|     0-14|    0|\n",
      "|A & N Islands|2001|   Causes|Bankruptcy or Sud...|Female|     0-14|    0|\n",
      "|A & N Islands|2001|   Causes|Cancellation/Non-...|Female|     0-14|    0|\n",
      "|A & N Islands|2001|   Causes|Physical Abuse (R...|Female|     0-14|    0|\n",
      "|A & N Islands|2001|   Causes|       Dowry Dispute|Female|     0-14|    0|\n",
      "|A & N Islands|2001|   Causes|     Family Problems|Female|     0-14|    0|\n",
      "|A & N Islands|2001|   Causes|Ideological Cause...|Female|     0-14|    0|\n",
      "|A & N Islands|2001|   Causes|Other Prolonged I...|Female|     0-14|    0|\n",
      "|A & N Islands|2001|   Causes|    Property Dispute|Female|     0-14|    0|\n",
      "|A & N Islands|2001|   Causes|Fall in Social Re...|Female|     0-14|    0|\n",
      "|A & N Islands|2001|   Causes|Illegitimate Preg...|Female|     0-14|    0|\n",
      "|A & N Islands|2001|   Causes|Failure in Examin...|Female|     0-14|    0|\n",
      "|A & N Islands|2001|   Causes|Insanity/Mental I...|Female|     0-14|    0|\n",
      "|A & N Islands|2001|   Causes|        Love Affairs|Female|     0-14|    1|\n",
      "|A & N Islands|2001|   Causes|Professional/Care...|Female|     0-14|    0|\n",
      "|A & N Islands|2001|   Causes|             Divorce|Female|     0-14|    0|\n",
      "|A & N Islands|2001|   Causes|Drug Abuse/Addiction|Female|     0-14|    0|\n",
      "|A & N Islands|2001|   Causes|Not having Childr...|Female|     0-14|    0|\n",
      "|A & N Islands|2001|   Causes|    Causes Not known|Female|     0-14|    0|\n",
      "+-------------+----+---------+--------------------+------+---------+-----+\n",
      "only showing top 20 rows\n",
      "\n"
     ]
    }
   ],
   "source": [
    "dg1.show()"
   ]
  },
  {
   "cell_type": "code",
   "execution_count": 11,
   "metadata": {},
   "outputs": [],
   "source": [
    "dg2 = dg.na.fill('Fill Type', subset=['Type'])"
   ]
  },
  {
   "cell_type": "code",
   "execution_count": 80,
   "metadata": {},
   "outputs": [
    {
     "name": "stdout",
     "output_type": "stream",
     "text": [
      "+-------------+----+---------+--------------------+------+---------+-----+\n",
      "|          _c0| _c1|      _c2|                 _c3|   _c4|      _c5|  _c6|\n",
      "+-------------+----+---------+--------------------+------+---------+-----+\n",
      "|        State|Year|Type_code|                Type|Gender|Age_group|Total|\n",
      "|A & N Islands|2001|   Causes|  Illness (Aids/STD)|Female|     0-14|    0|\n",
      "|A & N Islands|2001|   Causes|Bankruptcy or Sud...|Female|     0-14|    0|\n",
      "|A & N Islands|2001|   Causes|Cancellation/Non-...|Female|     0-14|    0|\n",
      "|A & N Islands|2001|   Causes|Physical Abuse (R...|Female|     0-14|    0|\n",
      "|A & N Islands|2001|   Causes|       Dowry Dispute|Female|     0-14|    0|\n",
      "|A & N Islands|2001|   Causes|     Family Problems|Female|     0-14|    0|\n",
      "|A & N Islands|2001|   Causes|Ideological Cause...|Female|     0-14|    0|\n",
      "|A & N Islands|2001|   Causes|Other Prolonged I...|Female|     0-14|    0|\n",
      "|A & N Islands|2001|   Causes|    Property Dispute|Female|     0-14|    0|\n",
      "|A & N Islands|2001|   Causes|Fall in Social Re...|Female|     0-14|    0|\n",
      "|A & N Islands|2001|   Causes|Illegitimate Preg...|Female|     0-14|    0|\n",
      "|A & N Islands|2001|   Causes|Failure in Examin...|Female|     0-14|    0|\n",
      "|A & N Islands|2001|   Causes|Insanity/Mental I...|Female|     0-14|    0|\n",
      "|A & N Islands|2001|   Causes|        Love Affairs|Female|     0-14|    1|\n",
      "|A & N Islands|2001|   Causes|Professional/Care...|Female|     0-14|    0|\n",
      "|A & N Islands|2001|   Causes|             Divorce|Female|     0-14|    0|\n",
      "|A & N Islands|2001|   Causes|Drug Abuse/Addiction|Female|     0-14|    0|\n",
      "|A & N Islands|2001|   Causes|Not having Childr...|Female|     0-14|    0|\n",
      "|A & N Islands|2001|   Causes|    Causes Not known|Female|     0-14|    0|\n",
      "+-------------+----+---------+--------------------+------+---------+-----+\n",
      "only showing top 20 rows\n",
      "\n"
     ]
    }
   ],
   "source": [
    "dg2.show()"
   ]
  },
  {
   "cell_type": "code",
   "execution_count": 23,
   "metadata": {},
   "outputs": [],
   "source": [
    "df1 = df.na.fill(\"No Value\", subset = [\"_c3\"])"
   ]
  },
  {
   "cell_type": "code",
   "execution_count": 24,
   "metadata": {},
   "outputs": [
    {
     "name": "stdout",
     "output_type": "stream",
     "text": [
      "+-------------+----+---------+--------------------+------+---------+-----+\n",
      "|          _c0| _c1|      _c2|                 _c3|   _c4|      _c5|  _c6|\n",
      "+-------------+----+---------+--------------------+------+---------+-----+\n",
      "|        State|Year|Type_code|                Type|Gender|Age_group|Total|\n",
      "|A & N Islands|2001|   Causes|  Illness (Aids/STD)|Female|     0-14|    0|\n",
      "|A & N Islands|2001|   Causes|Bankruptcy or Sud...|Female|     0-14|    0|\n",
      "|A & N Islands|2001|   Causes|Cancellation/Non-...|Female|     0-14|    0|\n",
      "|A & N Islands|2001|   Causes|Physical Abuse (R...|Female|     0-14|    0|\n",
      "|A & N Islands|2001|   Causes|       Dowry Dispute|Female|     0-14|    0|\n",
      "|A & N Islands|2001|   Causes|                null|Female|     0-14|    0|\n",
      "|A & N Islands|2001|   Causes|Ideological Cause...|Female|     0-14|    0|\n",
      "|A & N Islands|2001|   Causes|Other Prolonged I...|Female|     0-14|    0|\n",
      "|A & N Islands|2001|   Causes|    Property Dispute|Female|     0-14|    0|\n",
      "|A & N Islands|2001|   Causes|Fall in Social Re...|Female|     0-14|    0|\n",
      "|A & N Islands|2001|   Causes|Illegitimate Preg...|Female|     0-14|    0|\n",
      "|A & N Islands|2001|   Causes|Failure in Examin...|Female|     0-14|    0|\n",
      "|A & N Islands|2001|   Causes|Insanity/Mental I...|Female|     0-14|    0|\n",
      "|A & N Islands|2001|   Causes|                null|Female|     0-14| null|\n",
      "|A & N Islands|2001|   Causes|Professional/Care...|Female|     0-14|    0|\n",
      "|A & N Islands|2001|   Causes|             Divorce|Female|     0-14|    0|\n",
      "|A & N Islands|2001|   Causes|Drug Abuse/Addiction|Female|     0-14|    0|\n",
      "|A & N Islands|2001|   Causes|Not having Childr...|Female|     0-14|    0|\n",
      "|A & N Islands|2001|   Causes|    Causes Not known|Female|     0-14|    0|\n",
      "+-------------+----+---------+--------------------+------+---------+-----+\n",
      "only showing top 20 rows\n",
      "\n"
     ]
    }
   ],
   "source": [
    "df1.show()"
   ]
  },
  {
   "cell_type": "code",
   "execution_count": 120,
   "metadata": {},
   "outputs": [
    {
     "name": "stdout",
     "output_type": "stream",
     "text": [
      "root\n",
      " |-- _c0: string (nullable = true)\n",
      " |-- _c1: string (nullable = true)\n",
      " |-- _c2: string (nullable = true)\n",
      " |-- _c3: string (nullable = true)\n",
      " |-- _c4: string (nullable = true)\n",
      " |-- _c5: string (nullable = true)\n",
      " |-- _c6: string (nullable = true)\n",
      "\n"
     ]
    }
   ],
   "source": [
    "df = spark.read.csv(\"./Suicides in India 2001-2012.csv\")\n",
    "\n",
    "df.printSchema()\n",
    "\n"
   ]
  },
  {
   "cell_type": "code",
   "execution_count": 121,
   "metadata": {},
   "outputs": [
    {
     "name": "stdout",
     "output_type": "stream",
     "text": [
      "+-------+-------------+------------------+---------+--------------------+------+---------+-----------------+\n",
      "|summary|          _c0|               _c1|      _c2|                 _c3|   _c4|      _c5|              _c6|\n",
      "+-------+-------------+------------------+---------+--------------------+------+---------+-----------------+\n",
      "|  count|       237520|            237520|   237520|              237520|237520|   237520|           237520|\n",
      "|   mean|         null| 2006.500448385182|     null|                null|  null|     null|55.03447724182065|\n",
      "| stddev|         null|3.4522396568581026|     null|                null|  null|     null|792.7490383482241|\n",
      "|    min|A & N Islands|              2001|   Causes|Bankruptcy or Sud...|Female|   0-100+|                0|\n",
      "|    max|  West Bengal|              Year|Type_code|     Widowed/Widower|  Male|Age_group|            Total|\n",
      "+-------+-------------+------------------+---------+--------------------+------+---------+-----------------+\n",
      "\n"
     ]
    }
   ],
   "source": [
    "df.describe().show()"
   ]
  },
  {
   "cell_type": "code",
   "execution_count": 157,
   "metadata": {},
   "outputs": [],
   "source": [
    "data_schema = [StructField('Year',IntegerType(),True),\n",
    "              StructField('Type_code',StringType(),True)]\n",
    "\n",
    "final_struct = StructType(fields=data_schema)"
   ]
  },
  {
   "cell_type": "code",
   "execution_count": 158,
   "metadata": {},
   "outputs": [],
   "source": [
    "df = spark.read.csv('./Suicides in India 2001-2012.csv', schema=final_struct)"
   ]
  },
  {
   "cell_type": "code",
   "execution_count": 159,
   "metadata": {},
   "outputs": [
    {
     "name": "stdout",
     "output_type": "stream",
     "text": [
      "root\n",
      " |-- Year: integer (nullable = true)\n",
      " |-- Type_code: string (nullable = true)\n",
      "\n"
     ]
    }
   ],
   "source": [
    "df.printSchema()"
   ]
  },
  {
   "cell_type": "code",
   "execution_count": 160,
   "metadata": {},
   "outputs": [],
   "source": [
    "spark = SparkSession.builder.appName('aggregation').getOrCreate()\n"
   ]
  },
  {
   "cell_type": "code",
   "execution_count": 161,
   "metadata": {},
   "outputs": [],
   "source": [
    "df = spark.read.csv('./Suicides in India 2001-2012.csv', inferSchema=True, header=True)"
   ]
  },
  {
   "cell_type": "code",
   "execution_count": 163,
   "metadata": {},
   "outputs": [
    {
     "name": "stdout",
     "output_type": "stream",
     "text": [
      "+-------------+----+---------+--------------------+------+---------+-----+\n",
      "|        State|Year|Type_code|                Type|Gender|Age_group|Total|\n",
      "+-------------+----+---------+--------------------+------+---------+-----+\n",
      "|A & N Islands|2001|   Causes|  Illness (Aids/STD)|Female|     0-14|    0|\n",
      "|A & N Islands|2001|   Causes|Bankruptcy or Sud...|Female|     0-14|    0|\n",
      "|A & N Islands|2001|   Causes|Cancellation/Non-...|Female|     0-14|    0|\n",
      "|A & N Islands|2001|   Causes|Physical Abuse (R...|Female|     0-14|    0|\n",
      "|A & N Islands|2001|   Causes|       Dowry Dispute|Female|     0-14|    0|\n",
      "|A & N Islands|2001|   Causes|     Family Problems|Female|     0-14|    0|\n",
      "|A & N Islands|2001|   Causes|Ideological Cause...|Female|     0-14|    0|\n",
      "|A & N Islands|2001|   Causes|Other Prolonged I...|Female|     0-14|    0|\n",
      "|A & N Islands|2001|   Causes|    Property Dispute|Female|     0-14|    0|\n",
      "|A & N Islands|2001|   Causes|Fall in Social Re...|Female|     0-14|    0|\n",
      "|A & N Islands|2001|   Causes|Illegitimate Preg...|Female|     0-14|    0|\n",
      "|A & N Islands|2001|   Causes|Failure in Examin...|Female|     0-14|    0|\n",
      "|A & N Islands|2001|   Causes|Insanity/Mental I...|Female|     0-14|    0|\n",
      "|A & N Islands|2001|   Causes|        Love Affairs|Female|     0-14|    1|\n",
      "|A & N Islands|2001|   Causes|Professional/Care...|Female|     0-14|    0|\n",
      "|A & N Islands|2001|   Causes|             Divorce|Female|     0-14|    0|\n",
      "|A & N Islands|2001|   Causes|Drug Abuse/Addiction|Female|     0-14|    0|\n",
      "|A & N Islands|2001|   Causes|Not having Childr...|Female|     0-14|    0|\n",
      "|A & N Islands|2001|   Causes|    Causes Not known|Female|     0-14|    0|\n",
      "|A & N Islands|2001|   Causes|        Unemployment|Female|     0-14|    0|\n",
      "+-------------+----+---------+--------------------+------+---------+-----+\n",
      "only showing top 20 rows\n",
      "\n"
     ]
    }
   ],
   "source": [
    "df.show()"
   ]
  },
  {
   "cell_type": "code",
   "execution_count": 131,
   "metadata": {},
   "outputs": [
    {
     "name": "stdout",
     "output_type": "stream",
     "text": [
      "root\n",
      " |-- State: string (nullable = true)\n",
      " |-- Year: integer (nullable = true)\n",
      " |-- Type_code: string (nullable = true)\n",
      " |-- Type: string (nullable = true)\n",
      " |-- Gender: string (nullable = true)\n",
      " |-- Age_group: string (nullable = true)\n",
      " |-- Total: integer (nullable = true)\n",
      "\n"
     ]
    }
   ],
   "source": [
    "df.printSchema()"
   ]
  },
  {
   "cell_type": "code",
   "execution_count": 132,
   "metadata": {},
   "outputs": [
    {
     "name": "stdout",
     "output_type": "stream",
     "text": [
      "+-----+------------------+----------+\n",
      "|Total|         avg(Year)|avg(Total)|\n",
      "+-----+------------------+----------+\n",
      "|  496|            2007.3|     496.0|\n",
      "|  148|2006.6461538461538|     148.0|\n",
      "|  463|2005.8333333333333|     463.0|\n",
      "|  471|            2006.6|     471.0|\n",
      "| 1342|            2006.0|    1342.0|\n",
      "| 1238|            2008.5|    1238.0|\n",
      "| 1088|            2010.0|    1088.0|\n",
      "| 1645|            2010.0|    1645.0|\n",
      "| 4900|            2003.0|    4900.0|\n",
      "| 7554|            2010.0|    7554.0|\n",
      "| 2122|            2005.0|    2122.0|\n",
      "|  833|            2009.0|     833.0|\n",
      "| 1580|            2008.0|    1580.0|\n",
      "|  392|2007.3333333333333|     392.0|\n",
      "|  623|            2006.0|     623.0|\n",
      "|  540|          2003.625|     540.0|\n",
      "|  858|            2007.0|     858.0|\n",
      "| 1127|            2004.0|    1127.0|\n",
      "| 2999|            2008.0|    2999.0|\n",
      "|  243|2006.3181818181818|     243.0|\n",
      "+-----+------------------+----------+\n",
      "only showing top 20 rows\n",
      "\n"
     ]
    }
   ],
   "source": [
    "df.groupBy('Total').mean().show()"
   ]
  },
  {
   "cell_type": "code",
   "execution_count": 143,
   "metadata": {},
   "outputs": [
    {
     "name": "stdout",
     "output_type": "stream",
     "text": [
      "+-----+\n",
      "|Total|\n",
      "+-----+\n",
      "|    0|\n",
      "|    0|\n",
      "|    0|\n",
      "|    0|\n",
      "|    0|\n",
      "|    0|\n",
      "|    0|\n",
      "|    0|\n",
      "|    0|\n",
      "|    0|\n",
      "|    0|\n",
      "|    0|\n",
      "|    0|\n",
      "|    1|\n",
      "|    0|\n",
      "|    0|\n",
      "|    0|\n",
      "|    0|\n",
      "|    0|\n",
      "|    0|\n",
      "+-----+\n",
      "only showing top 20 rows\n",
      "\n"
     ]
    }
   ],
   "source": [
    "df.select('Total').show()\n"
   ]
  },
  {
   "cell_type": "code",
   "execution_count": 144,
   "metadata": {},
   "outputs": [
    {
     "name": "stdout",
     "output_type": "stream",
     "text": [
      "+-------------+----+---------+--------------------+------+---------+-----+------------+\n",
      "|        State|Year|Type_code|                Type|Gender|Age_group|Total|double_Total|\n",
      "+-------------+----+---------+--------------------+------+---------+-----+------------+\n",
      "|A & N Islands|2001|   Causes|  Illness (Aids/STD)|Female|     0-14|    0|           0|\n",
      "|A & N Islands|2001|   Causes|Bankruptcy or Sud...|Female|     0-14|    0|           0|\n",
      "|A & N Islands|2001|   Causes|Cancellation/Non-...|Female|     0-14|    0|           0|\n",
      "|A & N Islands|2001|   Causes|Physical Abuse (R...|Female|     0-14|    0|           0|\n",
      "|A & N Islands|2001|   Causes|       Dowry Dispute|Female|     0-14|    0|           0|\n",
      "|A & N Islands|2001|   Causes|     Family Problems|Female|     0-14|    0|           0|\n",
      "|A & N Islands|2001|   Causes|Ideological Cause...|Female|     0-14|    0|           0|\n",
      "|A & N Islands|2001|   Causes|Other Prolonged I...|Female|     0-14|    0|           0|\n",
      "|A & N Islands|2001|   Causes|    Property Dispute|Female|     0-14|    0|           0|\n",
      "|A & N Islands|2001|   Causes|Fall in Social Re...|Female|     0-14|    0|           0|\n",
      "|A & N Islands|2001|   Causes|Illegitimate Preg...|Female|     0-14|    0|           0|\n",
      "|A & N Islands|2001|   Causes|Failure in Examin...|Female|     0-14|    0|           0|\n",
      "|A & N Islands|2001|   Causes|Insanity/Mental I...|Female|     0-14|    0|           0|\n",
      "|A & N Islands|2001|   Causes|        Love Affairs|Female|     0-14|    1|           2|\n",
      "|A & N Islands|2001|   Causes|Professional/Care...|Female|     0-14|    0|           0|\n",
      "|A & N Islands|2001|   Causes|             Divorce|Female|     0-14|    0|           0|\n",
      "|A & N Islands|2001|   Causes|Drug Abuse/Addiction|Female|     0-14|    0|           0|\n",
      "|A & N Islands|2001|   Causes|Not having Childr...|Female|     0-14|    0|           0|\n",
      "|A & N Islands|2001|   Causes|    Causes Not known|Female|     0-14|    0|           0|\n",
      "|A & N Islands|2001|   Causes|        Unemployment|Female|     0-14|    0|           0|\n",
      "+-------------+----+---------+--------------------+------+---------+-----+------------+\n",
      "only showing top 20 rows\n",
      "\n"
     ]
    }
   ],
   "source": [
    "df.withColumn('double_Total',df['Total']*2).show()"
   ]
  },
  {
   "cell_type": "code",
   "execution_count": 145,
   "metadata": {},
   "outputs": [
    {
     "name": "stdout",
     "output_type": "stream",
     "text": [
      "+-------------+----+---------+--------------------+------+---------+-----+\n",
      "|        State|Year|Type_code|                Type|Gender|Age_group|Total|\n",
      "+-------------+----+---------+--------------------+------+---------+-----+\n",
      "|A & N Islands|2001|   Causes|  Illness (Aids/STD)|Female|     0-14|    0|\n",
      "|A & N Islands|2001|   Causes|Bankruptcy or Sud...|Female|     0-14|    0|\n",
      "|A & N Islands|2001|   Causes|Cancellation/Non-...|Female|     0-14|    0|\n",
      "|A & N Islands|2001|   Causes|Physical Abuse (R...|Female|     0-14|    0|\n",
      "|A & N Islands|2001|   Causes|       Dowry Dispute|Female|     0-14|    0|\n",
      "|A & N Islands|2001|   Causes|     Family Problems|Female|     0-14|    0|\n",
      "|A & N Islands|2001|   Causes|Ideological Cause...|Female|     0-14|    0|\n",
      "|A & N Islands|2001|   Causes|Other Prolonged I...|Female|     0-14|    0|\n",
      "|A & N Islands|2001|   Causes|    Property Dispute|Female|     0-14|    0|\n",
      "|A & N Islands|2001|   Causes|Fall in Social Re...|Female|     0-14|    0|\n",
      "|A & N Islands|2001|   Causes|Illegitimate Preg...|Female|     0-14|    0|\n",
      "|A & N Islands|2001|   Causes|Failure in Examin...|Female|     0-14|    0|\n",
      "|A & N Islands|2001|   Causes|Insanity/Mental I...|Female|     0-14|    0|\n",
      "|A & N Islands|2001|   Causes|        Love Affairs|Female|     0-14|    1|\n",
      "|A & N Islands|2001|   Causes|Professional/Care...|Female|     0-14|    0|\n",
      "|A & N Islands|2001|   Causes|             Divorce|Female|     0-14|    0|\n",
      "|A & N Islands|2001|   Causes|Drug Abuse/Addiction|Female|     0-14|    0|\n",
      "|A & N Islands|2001|   Causes|Not having Childr...|Female|     0-14|    0|\n",
      "|A & N Islands|2001|   Causes|    Causes Not known|Female|     0-14|    0|\n",
      "|A & N Islands|2001|   Causes|        Unemployment|Female|     0-14|    0|\n",
      "+-------------+----+---------+--------------------+------+---------+-----+\n",
      "only showing top 20 rows\n",
      "\n"
     ]
    }
   ],
   "source": [
    "df.show()"
   ]
  },
  {
   "cell_type": "code",
   "execution_count": 177,
   "metadata": {},
   "outputs": [],
   "source": [
    "import findspark\n",
    "findspark.init('/home/ubuntu/spark-2.1.1-bin-hadoop2.7')\n",
    "import pyspark\n",
    "from pyspark.sql import SparkSession\n",
    "spark = SparkSession.builder.appName('operations').getOrCreate()"
   ]
  },
  {
   "cell_type": "code",
   "execution_count": 12,
   "metadata": {},
   "outputs": [
    {
     "name": "stdout",
     "output_type": "stream",
     "text": [
      "root\n",
      " |-- State: string (nullable = true)\n",
      " |-- Year: integer (nullable = true)\n",
      " |-- Type_code: string (nullable = true)\n",
      " |-- Type: string (nullable = true)\n",
      " |-- Gender: string (nullable = true)\n",
      " |-- Age_group: string (nullable = true)\n",
      " |-- Total: integer (nullable = true)\n",
      "\n"
     ]
    }
   ],
   "source": [
    "df = spark.read.csv('./Suicides in India 2001-2012.csv', inferSchema=True, header=True)\n",
    "df.printSchema()"
   ]
  },
  {
   "cell_type": "code",
   "execution_count": 13,
   "metadata": {},
   "outputs": [
    {
     "name": "stdout",
     "output_type": "stream",
     "text": [
      "+-------------+----+---------+--------------------+------+---------+-----+\n",
      "|        State|Year|Type_code|                Type|Gender|Age_group|Total|\n",
      "+-------------+----+---------+--------------------+------+---------+-----+\n",
      "|A & N Islands|2001|   Causes|  Illness (Aids/STD)|Female|     0-14|    0|\n",
      "|A & N Islands|2001|   Causes|Bankruptcy or Sud...|Female|     0-14|    0|\n",
      "|A & N Islands|2001|   Causes|Cancellation/Non-...|Female|     0-14|    0|\n",
      "|A & N Islands|2001|   Causes|Physical Abuse (R...|Female|     0-14|    0|\n",
      "|A & N Islands|2001|   Causes|       Dowry Dispute|Female|     0-14|    0|\n",
      "|A & N Islands|2001|   Causes|     Family Problems|Female|     0-14|    0|\n",
      "|A & N Islands|2001|   Causes|Ideological Cause...|Female|     0-14|    0|\n",
      "|A & N Islands|2001|   Causes|Other Prolonged I...|Female|     0-14|    0|\n",
      "|A & N Islands|2001|   Causes|    Property Dispute|Female|     0-14|    0|\n",
      "|A & N Islands|2001|   Causes|Fall in Social Re...|Female|     0-14|    0|\n",
      "|A & N Islands|2001|   Causes|Illegitimate Preg...|Female|     0-14|    0|\n",
      "|A & N Islands|2001|   Causes|Failure in Examin...|Female|     0-14|    0|\n",
      "|A & N Islands|2001|   Causes|Insanity/Mental I...|Female|     0-14|    0|\n",
      "|A & N Islands|2001|   Causes|        Love Affairs|Female|     0-14|    1|\n",
      "|A & N Islands|2001|   Causes|Professional/Care...|Female|     0-14|    0|\n",
      "|A & N Islands|2001|   Causes|             Divorce|Female|     0-14|    0|\n",
      "|A & N Islands|2001|   Causes|Drug Abuse/Addiction|Female|     0-14|    0|\n",
      "|A & N Islands|2001|   Causes|Not having Childr...|Female|     0-14|    0|\n",
      "|A & N Islands|2001|   Causes|    Causes Not known|Female|     0-14|    0|\n",
      "|A & N Islands|2001|   Causes|        Unemployment|Female|     0-14|    0|\n",
      "+-------------+----+---------+--------------------+------+---------+-----+\n",
      "only showing top 20 rows\n",
      "\n"
     ]
    }
   ],
   "source": [
    "df.show()"
   ]
  },
  {
   "cell_type": "code",
   "execution_count": 181,
   "metadata": {},
   "outputs": [
    {
     "data": {
      "text/plain": [
       "[Row(State='A & N Islands', Year=2001, Type_code='Causes', Type='Illness (Aids/STD)', Gender='Female', Age_group='0-14', Total=0)]"
      ]
     },
     "execution_count": 181,
     "metadata": {},
     "output_type": "execute_result"
    }
   ],
   "source": [
    "df.head(1)"
   ]
  },
  {
   "cell_type": "code",
   "execution_count": 185,
   "metadata": {},
   "outputs": [
    {
     "name": "stdout",
     "output_type": "stream",
     "text": [
      "+--------------------+-------------+---------+------+\n",
      "|                Type|        State|Type_code|Gender|\n",
      "+--------------------+-------------+---------+------+\n",
      "|  Illness (Aids/STD)|A & N Islands|   Causes|Female|\n",
      "|Bankruptcy or Sud...|A & N Islands|   Causes|Female|\n",
      "|Cancellation/Non-...|A & N Islands|   Causes|Female|\n",
      "|Physical Abuse (R...|A & N Islands|   Causes|Female|\n",
      "|       Dowry Dispute|A & N Islands|   Causes|Female|\n",
      "|     Family Problems|A & N Islands|   Causes|Female|\n",
      "|Ideological Cause...|A & N Islands|   Causes|Female|\n",
      "|Other Prolonged I...|A & N Islands|   Causes|Female|\n",
      "|    Property Dispute|A & N Islands|   Causes|Female|\n",
      "|Fall in Social Re...|A & N Islands|   Causes|Female|\n",
      "|Illegitimate Preg...|A & N Islands|   Causes|Female|\n",
      "|Failure in Examin...|A & N Islands|   Causes|Female|\n",
      "|Insanity/Mental I...|A & N Islands|   Causes|Female|\n",
      "|        Love Affairs|A & N Islands|   Causes|Female|\n",
      "|Professional/Care...|A & N Islands|   Causes|Female|\n",
      "|             Divorce|A & N Islands|   Causes|Female|\n",
      "|Drug Abuse/Addiction|A & N Islands|   Causes|Female|\n",
      "|Not having Childr...|A & N Islands|   Causes|Female|\n",
      "|    Causes Not known|A & N Islands|   Causes|Female|\n",
      "|        Unemployment|A & N Islands|   Causes|Female|\n",
      "+--------------------+-------------+---------+------+\n",
      "only showing top 20 rows\n",
      "\n"
     ]
    }
   ],
   "source": [
    "df.filter(\"Year < 2012\").select('Type','State','Type_code','Gender').show()"
   ]
  },
  {
   "cell_type": "code",
   "execution_count": 14,
   "metadata": {},
   "outputs": [
    {
     "name": "stdout",
     "output_type": "stream",
     "text": [
      "+--------------------+-------------+---------+------+\n",
      "|                Type|        State|Type_code|Gender|\n",
      "+--------------------+-------------+---------+------+\n",
      "|           Paralysis|A & N Islands|   Causes|Female|\n",
      "|    Causes Not known|A & N Islands|   Causes|Female|\n",
      "|Insanity/Mental I...|A & N Islands|   Causes|Female|\n",
      "|Professional/Care...|A & N Islands|   Causes|Female|\n",
      "|Cancellation/Non-...|A & N Islands|   Causes|Female|\n",
      "|        Love Affairs|A & N Islands|   Causes|Female|\n",
      "|  Illness (Aids/STD)|A & N Islands|   Causes|Female|\n",
      "|        Unemployment|A & N Islands|   Causes|Female|\n",
      "|     Family Problems|A & N Islands|   Causes|Female|\n",
      "|              Cancer|A & N Islands|   Causes|Female|\n",
      "|Other Prolonged I...|A & N Islands|   Causes|Female|\n",
      "|Drug Abuse/Addiction|A & N Islands|   Causes|Female|\n",
      "|             Divorce|A & N Islands|   Causes|Female|\n",
      "|Fall in Social Re...|A & N Islands|   Causes|Female|\n",
      "|Illegitimate Preg...|A & N Islands|   Causes|Female|\n",
      "|Physical Abuse (R...|A & N Islands|   Causes|Female|\n",
      "|Other Causes (Ple...|A & N Islands|   Causes|Female|\n",
      "|    Property Dispute|A & N Islands|   Causes|Female|\n",
      "|Suspected/Illicit...|A & N Islands|   Causes|Female|\n",
      "|Bankruptcy or Sud...|A & N Islands|   Causes|Female|\n",
      "+--------------------+-------------+---------+------+\n",
      "only showing top 20 rows\n",
      "\n"
     ]
    }
   ],
   "source": [
    "df.filter( (df['Year'] > 2001) & (df['Year'] < 2012) ).select('Type','State','Type_code','Gender').show()"
   ]
  },
  {
   "cell_type": "code",
   "execution_count": 15,
   "metadata": {},
   "outputs": [],
   "source": [
    "from pyspark.sql.types import (StructField,StringType,IntegerType,StructType)"
   ]
  },
  {
   "cell_type": "code",
   "execution_count": 18,
   "metadata": {},
   "outputs": [],
   "source": [
    "data_schema = [StructField('Gender',IntegerType(),True)]             \n",
    "\n",
    "final_struct = StructType(fields=data_schema)"
   ]
  },
  {
   "cell_type": "code",
   "execution_count": 19,
   "metadata": {},
   "outputs": [
    {
     "name": "stdout",
     "output_type": "stream",
     "text": [
      "root\n",
      " |-- Gender: integer (nullable = true)\n",
      "\n"
     ]
    }
   ],
   "source": [
    "df = spark.read.csv('./Suicides in India 2001-2012.csv', schema=final_struct)\n",
    "\n",
    "df.printSchema()"
   ]
  },
  {
   "cell_type": "code",
   "execution_count": 21,
   "metadata": {},
   "outputs": [
    {
     "data": {
      "text/plain": [
       "DataFrame[Gender: int]"
      ]
     },
     "execution_count": 21,
     "metadata": {},
     "output_type": "execute_result"
    }
   ],
   "source": [
    "df.select('Gender')"
   ]
  },
  {
   "cell_type": "code",
   "execution_count": 22,
   "metadata": {},
   "outputs": [],
   "source": [
    "GenderColumn = df.select('Gender')"
   ]
  },
  {
   "cell_type": "code",
   "execution_count": 23,
   "metadata": {},
   "outputs": [
    {
     "data": {
      "text/plain": [
       "DataFrame[Gender: int]"
      ]
     },
     "execution_count": 23,
     "metadata": {},
     "output_type": "execute_result"
    }
   ],
   "source": [
    "df.select('Gender')"
   ]
  },
  {
   "cell_type": "code",
   "execution_count": 26,
   "metadata": {},
   "outputs": [
    {
     "name": "stdout",
     "output_type": "stream",
     "text": [
      "root\n",
      " |-- Gender: integer (nullable = true)\n",
      "\n"
     ]
    }
   ],
   "source": [
    "df.printSchema()"
   ]
  },
  {
   "cell_type": "code",
   "execution_count": 29,
   "metadata": {},
   "outputs": [],
   "source": [
    "from pyspark.sql.functions import countDistinct,avg,stddev,format_number\n"
   ]
  },
  {
   "cell_type": "code",
   "execution_count": 34,
   "metadata": {},
   "outputs": [],
   "source": [
    "import findspark\n",
    "findspark.init('/home/ubuntu/spark-2.1.1-bin-hadoop2.7')\n",
    "import pyspark\n",
    "from pyspark.sql import SparkSession\n",
    "spark = SparkSession.builder.appName('aggregation').getOrCreate()"
   ]
  },
  {
   "cell_type": "code",
   "execution_count": 36,
   "metadata": {},
   "outputs": [],
   "source": [
    "df = spark.read.csv('./Suicides in India 2001-2012.csv', inferSchema=True, header=True)"
   ]
  },
  {
   "cell_type": "code",
   "execution_count": 37,
   "metadata": {},
   "outputs": [
    {
     "name": "stdout",
     "output_type": "stream",
     "text": [
      "+-----+------------------+----------+\n",
      "|Total|         avg(Year)|avg(Total)|\n",
      "+-----+------------------+----------+\n",
      "|  496|            2007.3|     496.0|\n",
      "|  148|2006.6461538461538|     148.0|\n",
      "|  463|2005.8333333333333|     463.0|\n",
      "|  471|            2006.6|     471.0|\n",
      "| 1342|            2006.0|    1342.0|\n",
      "| 1238|            2008.5|    1238.0|\n",
      "| 1088|            2010.0|    1088.0|\n",
      "| 1645|            2010.0|    1645.0|\n",
      "| 4900|            2003.0|    4900.0|\n",
      "| 7554|            2010.0|    7554.0|\n",
      "| 2122|            2005.0|    2122.0|\n",
      "|  833|            2009.0|     833.0|\n",
      "| 1580|            2008.0|    1580.0|\n",
      "|  392|2007.3333333333333|     392.0|\n",
      "|  623|            2006.0|     623.0|\n",
      "|  540|          2003.625|     540.0|\n",
      "|  858|            2007.0|     858.0|\n",
      "| 1127|            2004.0|    1127.0|\n",
      "| 2999|            2008.0|    2999.0|\n",
      "|  243|2006.3181818181818|     243.0|\n",
      "+-----+------------------+----------+\n",
      "only showing top 20 rows\n",
      "\n"
     ]
    }
   ],
   "source": [
    "df.groupBy('Total').mean().show()"
   ]
  },
  {
   "cell_type": "code",
   "execution_count": 38,
   "metadata": {},
   "outputs": [
    {
     "name": "stdout",
     "output_type": "stream",
     "text": [
      "+-----------------+\n",
      "|       avg(Total)|\n",
      "+-----------------+\n",
      "|55.03447724182065|\n",
      "+-----------------+\n",
      "\n"
     ]
    }
   ],
   "source": [
    "df.agg({\"Total\":\"mean\"}).show()"
   ]
  },
  {
   "cell_type": "code",
   "execution_count": 39,
   "metadata": {},
   "outputs": [
    {
     "name": "stdout",
     "output_type": "stream",
     "text": [
      "+--------------------+-----------------+------------------+\n",
      "|                Type|        avg(Year)|        avg(Total)|\n",
      "+--------------------+-----------------+------------------+\n",
      "|Fall in Social Re...|           2006.5|3.2057142857142855|\n",
      "|By touching elect...|           2006.5|2.5752380952380953|\n",
      "|       Never Married|           2006.5|1047.0427631578948|\n",
      "|    Property Dispute|           2006.5| 4.440952380952381|\n",
      "|        No Education|           2006.5|1058.4111842105262|\n",
      "|By coming under r...|           2006.5| 10.78547619047619|\n",
      "|By Overdose of sl...|           2006.5|2.3714285714285714|\n",
      "|Farming/Agricultu...|           2006.5| 47.12452380952381|\n",
      "|             Student|           2006.5| 17.69595238095238|\n",
      "|     Family Problems|           2006.5| 81.41714285714286|\n",
      "|Other Causes (Ple...|           2006.5| 51.44047619047619|\n",
      "|             Divorce|           2006.5|0.9840476190476191|\n",
      "|Illegitimate Preg...|           2006.5|0.5938095238095238|\n",
      "|        By Fire-Arms|           2006.5|1.4985714285714287|\n",
      "|Others (Please Sp...|2006.514663362247| 64.59410711827068|\n",
      "|              Middle|           2006.5|1128.1940789473683|\n",
      "|By Consuming Othe...|           2006.5| 55.04238095238095|\n",
      "|By Jumping from (...|           2006.5| 1.874047619047619|\n",
      "|Post Graduate and...|           2006.5|24.588815789473685|\n",
      "|Failure in Examin...|           2006.5| 6.429761904761905|\n",
      "+--------------------+-----------------+------------------+\n",
      "only showing top 20 rows\n",
      "\n"
     ]
    }
   ],
   "source": [
    "df.groupBy('Type').mean().show()"
   ]
  },
  {
   "cell_type": "code",
   "execution_count": 41,
   "metadata": {},
   "outputs": [
    {
     "name": "stdout",
     "output_type": "stream",
     "text": [
      "+----+---------+------------------+\n",
      "|Year|avg(Year)|        avg(Total)|\n",
      "+----+---------+------------------+\n",
      "|2003|   2003.0|50.420600424542606|\n",
      "|2007|   2007.0|  55.7576538344953|\n",
      "|2006|   2006.0| 53.72440109168099|\n",
      "|2004|   2004.0| 51.71799019360056|\n",
      "|2012|   2012.0|60.056972574372445|\n",
      "|2009|   2009.0| 57.82032750429597|\n",
      "|2001|   2001.0| 49.32383694499167|\n",
      "|2005|   2005.0| 51.76998434580619|\n",
      "|2010|   2010.0| 61.20260711398545|\n",
      "|2011|   2011.0|  61.5722003433303|\n",
      "|2008|   2008.0|56.830933979895946|\n",
      "|2002|   2002.0|50.209600808489135|\n",
      "+----+---------+------------------+\n",
      "\n"
     ]
    }
   ],
   "source": [
    "df.groupBy('Year').mean().show()"
   ]
  },
  {
   "cell_type": "code",
   "execution_count": 48,
   "metadata": {},
   "outputs": [
    {
     "name": "stdout",
     "output_type": "stream",
     "text": [
      "+--------------------+------------------+------------------+\n",
      "|           Type_code|         avg(Year)|        avg(Total)|\n",
      "+--------------------+------------------+------------------+\n",
      "|    Education_Status|            2006.5| 598.6558388157895|\n",
      "|Professional_Profile|2006.5021618659034| 29.21549641718937|\n",
      "|       Means_adopted|            2006.5| 21.66563988095238|\n",
      "|       Social_Status|            2006.5| 957.8493421052632|\n",
      "|              Causes|            2006.5|13.195732600732601|\n",
      "+--------------------+------------------+------------------+\n",
      "\n"
     ]
    }
   ],
   "source": [
    "df.groupBy('Type_code').avg().show()"
   ]
  },
  {
   "cell_type": "code",
   "execution_count": 49,
   "metadata": {},
   "outputs": [
    {
     "name": "stdout",
     "output_type": "stream",
     "text": [
      "+-------------+----+---------+--------------------+------+---------+-----+\n",
      "|        State|Year|Type_code|                Type|Gender|Age_group|Total|\n",
      "+-------------+----+---------+--------------------+------+---------+-----+\n",
      "|A & N Islands|2001|   Causes|  Illness (Aids/STD)|Female|     0-14|    0|\n",
      "|A & N Islands|2001|   Causes|Bankruptcy or Sud...|Female|     0-14|    0|\n",
      "|A & N Islands|2001|   Causes|Cancellation/Non-...|Female|     0-14|    0|\n",
      "|A & N Islands|2001|   Causes|Physical Abuse (R...|Female|     0-14|    0|\n",
      "|A & N Islands|2001|   Causes|       Dowry Dispute|Female|     0-14|    0|\n",
      "|A & N Islands|2001|   Causes|     Family Problems|Female|     0-14|    0|\n",
      "|A & N Islands|2001|   Causes|Ideological Cause...|Female|     0-14|    0|\n",
      "|A & N Islands|2001|   Causes|Other Prolonged I...|Female|     0-14|    0|\n",
      "|A & N Islands|2001|   Causes|    Property Dispute|Female|     0-14|    0|\n",
      "|A & N Islands|2001|   Causes|Fall in Social Re...|Female|     0-14|    0|\n",
      "|A & N Islands|2001|   Causes|Illegitimate Preg...|Female|     0-14|    0|\n",
      "|A & N Islands|2001|   Causes|Failure in Examin...|Female|     0-14|    0|\n",
      "|A & N Islands|2001|   Causes|Insanity/Mental I...|Female|     0-14|    0|\n",
      "|A & N Islands|2001|   Causes|        Love Affairs|Female|     0-14|    1|\n",
      "|A & N Islands|2001|   Causes|Professional/Care...|Female|     0-14|    0|\n",
      "|A & N Islands|2001|   Causes|             Divorce|Female|     0-14|    0|\n",
      "|A & N Islands|2001|   Causes|Drug Abuse/Addiction|Female|     0-14|    0|\n",
      "|A & N Islands|2001|   Causes|Not having Childr...|Female|     0-14|    0|\n",
      "|A & N Islands|2001|   Causes|    Causes Not known|Female|     0-14|    0|\n",
      "|A & N Islands|2001|   Causes|        Unemployment|Female|     0-14|    0|\n",
      "+-------------+----+---------+--------------------+------+---------+-----+\n",
      "only showing top 20 rows\n",
      "\n",
      "+-------------+----+-------------+---------------+------+---------+-----+\n",
      "|        State|Year|    Type_code|           Type|Gender|Age_group|Total|\n",
      "+-------------+----+-------------+---------------+------+---------+-----+\n",
      "|A & N Islands|2001|Social_Status|        Married|Female|   0-100+|   38|\n",
      "|A & N Islands|2003|Social_Status|       Divorcee|Female|   0-100+|    0|\n",
      "|A & N Islands|2001|Social_Status|      Seperated|Female|   0-100+|    0|\n",
      "|A & N Islands|2001|Social_Status|Widowed/Widower|Female|   0-100+|    0|\n",
      "|A & N Islands|2001|Social_Status|       Divorcee|Female|   0-100+|    0|\n",
      "|A & N Islands|2001|Social_Status|  Never Married|Female|   0-100+|   12|\n",
      "|A & N Islands|2001|Social_Status|Widowed/Widower|  Male|   0-100+|    0|\n",
      "|A & N Islands|2001|Social_Status|      Seperated|  Male|   0-100+|    0|\n",
      "|A & N Islands|2001|Social_Status|        Married|  Male|   0-100+|   55|\n",
      "|A & N Islands|2001|Social_Status|  Never Married|  Male|   0-100+|   24|\n",
      "|A & N Islands|2001|Social_Status|       Divorcee|  Male|   0-100+|    0|\n",
      "|A & N Islands|2002|Social_Status|  Never Married|Female|   0-100+|   17|\n",
      "|A & N Islands|2002|Social_Status|      Seperated|Female|   0-100+|    0|\n",
      "|A & N Islands|2002|Social_Status|       Divorcee|Female|   0-100+|    0|\n",
      "|A & N Islands|2002|Social_Status|        Married|Female|   0-100+|   36|\n",
      "|A & N Islands|2002|Social_Status|Widowed/Widower|Female|   0-100+|    0|\n",
      "|A & N Islands|2002|Social_Status|       Divorcee|  Male|   0-100+|    0|\n",
      "|A & N Islands|2002|Social_Status|  Never Married|  Male|   0-100+|   37|\n",
      "|A & N Islands|2002|Social_Status|Widowed/Widower|  Male|   0-100+|    0|\n",
      "|A & N Islands|2002|Social_Status|      Seperated|  Male|   0-100+|    0|\n",
      "+-------------+----+-------------+---------------+------+---------+-----+\n",
      "only showing top 20 rows\n",
      "\n"
     ]
    }
   ],
   "source": [
    "df.orderBy('Type_code').show()\n",
    "\n",
    "df.orderBy(df['Type_code'].desc()).show()"
   ]
  },
  {
   "cell_type": "code",
   "execution_count": 50,
   "metadata": {},
   "outputs": [
    {
     "name": "stdout",
     "output_type": "stream",
     "text": [
      "+--------------------+-----------------+------------------+\n",
      "|                Type|        avg(Year)|        avg(Total)|\n",
      "+--------------------+-----------------+------------------+\n",
      "|Fall in Social Re...|           2006.5|3.2057142857142855|\n",
      "|By touching elect...|           2006.5|2.5752380952380953|\n",
      "|       Never Married|           2006.5|1047.0427631578948|\n",
      "|    Property Dispute|           2006.5| 4.440952380952381|\n",
      "|        No Education|           2006.5|1058.4111842105262|\n",
      "|By coming under r...|           2006.5| 10.78547619047619|\n",
      "|By Overdose of sl...|           2006.5|2.3714285714285714|\n",
      "|Farming/Agricultu...|           2006.5| 47.12452380952381|\n",
      "|             Student|           2006.5| 17.69595238095238|\n",
      "|     Family Problems|           2006.5| 81.41714285714286|\n",
      "|Other Causes (Ple...|           2006.5| 51.44047619047619|\n",
      "|             Divorce|           2006.5|0.9840476190476191|\n",
      "|Illegitimate Preg...|           2006.5|0.5938095238095238|\n",
      "|        By Fire-Arms|           2006.5|1.4985714285714287|\n",
      "|Others (Please Sp...|2006.514663362247| 64.59410711827068|\n",
      "|              Middle|           2006.5|1128.1940789473683|\n",
      "|By Consuming Othe...|           2006.5| 55.04238095238095|\n",
      "|By Jumping from (...|           2006.5| 1.874047619047619|\n",
      "|Post Graduate and...|           2006.5|24.588815789473685|\n",
      "|Failure in Examin...|           2006.5| 6.429761904761905|\n",
      "+--------------------+-----------------+------------------+\n",
      "only showing top 20 rows\n",
      "\n"
     ]
    }
   ],
   "source": [
    "df.groupBy('Type').avg().show()"
   ]
  },
  {
   "cell_type": "code",
   "execution_count": 59,
   "metadata": {},
   "outputs": [],
   "source": [
    "import findspark\n",
    "findspark.init('/home/ubuntu/spark-2.1.1-bin-hadoop2.7')\n",
    "import pyspark\n",
    "from pyspark.sql import SparkSession\n",
    "spark = SparkSession.builder.appName('operations').getOrCreate()\n"
   ]
  },
  {
   "cell_type": "code",
   "execution_count": 60,
   "metadata": {},
   "outputs": [
    {
     "name": "stdout",
     "output_type": "stream",
     "text": [
      "root\n",
      " |-- State: string (nullable = true)\n",
      " |-- Year: integer (nullable = true)\n",
      " |-- Type_code: string (nullable = true)\n",
      " |-- Type: string (nullable = true)\n",
      " |-- Gender: string (nullable = true)\n",
      " |-- Age_group: string (nullable = true)\n",
      " |-- Total: integer (nullable = true)\n",
      "\n"
     ]
    }
   ],
   "source": [
    "df = spark.read.csv('./Suicides in India 2001-2012.csv', inferSchema=True, header=True)\n",
    "df.printSchema()"
   ]
  },
  {
   "cell_type": "code",
   "execution_count": 61,
   "metadata": {},
   "outputs": [
    {
     "data": {
      "text/plain": [
       "[Row(State='A & N Islands', Year=2001, Type_code='Causes', Type='Illness (Aids/STD)', Gender='Female', Age_group='0-14', Total=0)]"
      ]
     },
     "execution_count": 61,
     "metadata": {},
     "output_type": "execute_result"
    }
   ],
   "source": [
    "df.head(1)"
   ]
  },
  {
   "cell_type": "code",
   "execution_count": 66,
   "metadata": {},
   "outputs": [
    {
     "name": "stdout",
     "output_type": "stream",
     "text": [
      "+--------------------+\n",
      "|                Type|\n",
      "+--------------------+\n",
      "|Insanity/Mental I...|\n",
      "|    Causes Not known|\n",
      "|Other Prolonged I...|\n",
      "|Other Causes (Ple...|\n",
      "|       Dowry Dispute|\n",
      "|     Family Problems|\n",
      "|Insanity/Mental I...|\n",
      "|    Causes Not known|\n",
      "|     Family Problems|\n",
      "|             Poverty|\n",
      "|Other Prolonged I...|\n",
      "|Other Causes (Ple...|\n",
      "|Other Causes (Ple...|\n",
      "|     Family Problems|\n",
      "|Other Prolonged I...|\n",
      "|Other Causes (Ple...|\n",
      "|    Causes Not known|\n",
      "|Other Prolonged I...|\n",
      "|     Family Problems|\n",
      "|Insanity/Mental I...|\n",
      "+--------------------+\n",
      "only showing top 20 rows\n",
      "\n"
     ]
    }
   ],
   "source": [
    "df.filter(\"Total > 100\").select('Type').show()"
   ]
  },
  {
   "cell_type": "code",
   "execution_count": 73,
   "metadata": {},
   "outputs": [
    {
     "name": "stdout",
     "output_type": "stream",
     "text": [
      "+----+\n",
      "|Year|\n",
      "+----+\n",
      "|2001|\n",
      "|2001|\n",
      "|2001|\n",
      "|2001|\n",
      "|2001|\n",
      "|2001|\n",
      "|2001|\n",
      "|2001|\n",
      "|2002|\n",
      "|2002|\n",
      "|2002|\n",
      "|2002|\n",
      "|2002|\n",
      "|2002|\n",
      "|2002|\n",
      "|2003|\n",
      "|2003|\n",
      "|2003|\n",
      "|2003|\n",
      "|2003|\n",
      "+----+\n",
      "only showing top 20 rows\n",
      "\n"
     ]
    }
   ],
   "source": [
    "df.filter(\"Total > 1000\").select('Year').show()"
   ]
  },
  {
   "cell_type": "code",
   "execution_count": 70,
   "metadata": {},
   "outputs": [
    {
     "name": "stdout",
     "output_type": "stream",
     "text": [
      "+--------------------+\n",
      "|           Type_code|\n",
      "+--------------------+\n",
      "|    Education_Status|\n",
      "|    Education_Status|\n",
      "|    Education_Status|\n",
      "|    Education_Status|\n",
      "|    Education_Status|\n",
      "|Professional_Profile|\n",
      "|       Social_Status|\n",
      "|       Social_Status|\n",
      "|    Education_Status|\n",
      "|    Education_Status|\n",
      "|    Education_Status|\n",
      "|    Education_Status|\n",
      "|Professional_Profile|\n",
      "|       Social_Status|\n",
      "|       Social_Status|\n",
      "|    Education_Status|\n",
      "|    Education_Status|\n",
      "|    Education_Status|\n",
      "|    Education_Status|\n",
      "|       Means_adopted|\n",
      "+--------------------+\n",
      "only showing top 20 rows\n",
      "\n"
     ]
    }
   ],
   "source": [
    "df.filter(\"Total > 1000\").select('Type_code').show()"
   ]
  },
  {
   "cell_type": "code",
   "execution_count": 74,
   "metadata": {},
   "outputs": [],
   "source": [
    "import findspark\n",
    "findspark.init('/home/ubuntu/spark-2.1.1-bin-hadoop2.7')\n",
    "import pyspark\n",
    "from pyspark.sql import SparkSession\n",
    "spark = SparkSession.builder.appName('tree_methods_doc').getOrCreate()\n",
    "\n",
    "from pyspark.ml import Pipeline\n",
    "from pyspark.ml.classification import (RandomForestClassifier, GBTClassifier, DecisionTreeClassifier)\n",
    "from pyspark.ml.evaluation import MulticlassClassificationEvaluator"
   ]
  },
  {
   "cell_type": "code",
   "execution_count": 76,
   "metadata": {},
   "outputs": [],
   "source": [
    "data = spark.read.format(\"csv\").load(\"./Suicides in India 2001-2012.csv\")"
   ]
  },
  {
   "cell_type": "code",
   "execution_count": 77,
   "metadata": {},
   "outputs": [
    {
     "name": "stdout",
     "output_type": "stream",
     "text": [
      "+-------------+----+---------+--------------------+------+---------+-----+\n",
      "|          _c0| _c1|      _c2|                 _c3|   _c4|      _c5|  _c6|\n",
      "+-------------+----+---------+--------------------+------+---------+-----+\n",
      "|        State|Year|Type_code|                Type|Gender|Age_group|Total|\n",
      "|A & N Islands|2001|   Causes|  Illness (Aids/STD)|Female|     0-14|    0|\n",
      "|A & N Islands|2001|   Causes|Bankruptcy or Sud...|Female|     0-14|    0|\n",
      "|A & N Islands|2001|   Causes|Cancellation/Non-...|Female|     0-14|    0|\n",
      "|A & N Islands|2001|   Causes|Physical Abuse (R...|Female|     0-14|    0|\n",
      "|A & N Islands|2001|   Causes|       Dowry Dispute|Female|     0-14|    0|\n",
      "|A & N Islands|2001|   Causes|     Family Problems|Female|     0-14|    0|\n",
      "|A & N Islands|2001|   Causes|Ideological Cause...|Female|     0-14|    0|\n",
      "|A & N Islands|2001|   Causes|Other Prolonged I...|Female|     0-14|    0|\n",
      "|A & N Islands|2001|   Causes|    Property Dispute|Female|     0-14|    0|\n",
      "|A & N Islands|2001|   Causes|Fall in Social Re...|Female|     0-14|    0|\n",
      "|A & N Islands|2001|   Causes|Illegitimate Preg...|Female|     0-14|    0|\n",
      "|A & N Islands|2001|   Causes|Failure in Examin...|Female|     0-14|    0|\n",
      "|A & N Islands|2001|   Causes|Insanity/Mental I...|Female|     0-14|    0|\n",
      "|A & N Islands|2001|   Causes|        Love Affairs|Female|     0-14|    1|\n",
      "|A & N Islands|2001|   Causes|Professional/Care...|Female|     0-14|    0|\n",
      "|A & N Islands|2001|   Causes|             Divorce|Female|     0-14|    0|\n",
      "|A & N Islands|2001|   Causes|Drug Abuse/Addiction|Female|     0-14|    0|\n",
      "|A & N Islands|2001|   Causes|Not having Childr...|Female|     0-14|    0|\n",
      "|A & N Islands|2001|   Causes|    Causes Not known|Female|     0-14|    0|\n",
      "+-------------+----+---------+--------------------+------+---------+-----+\n",
      "only showing top 20 rows\n",
      "\n",
      "root\n",
      " |-- _c0: string (nullable = true)\n",
      " |-- _c1: string (nullable = true)\n",
      " |-- _c2: string (nullable = true)\n",
      " |-- _c3: string (nullable = true)\n",
      " |-- _c4: string (nullable = true)\n",
      " |-- _c5: string (nullable = true)\n",
      " |-- _c6: string (nullable = true)\n",
      "\n"
     ]
    }
   ],
   "source": [
    "data.show()\n",
    "\n",
    "data.printSchema()"
   ]
  },
  {
   "cell_type": "code",
   "execution_count": 78,
   "metadata": {},
   "outputs": [],
   "source": [
    "(trainingData, testData) = data.randomSplit([0.7, 0.3])"
   ]
  },
  {
   "cell_type": "code",
   "execution_count": 159,
   "metadata": {},
   "outputs": [],
   "source": [
    "dt = DecisionTreeClassifier()\n",
    "rf = RandomForestClassifier(labelCol=\"label\", featuresCol=\"features\", numTrees=20)"
   ]
  },
  {
   "cell_type": "code",
   "execution_count": 193,
   "metadata": {},
   "outputs": [],
   "source": [
    "import findspark\n",
    "findspark.init('/home/ubuntu/spark-2.1.1-bin-hadoop2.7')\n",
    "import pyspark\n",
    "from pyspark.sql import SparkSession\n",
    "spark = SparkSession.builder.appName('aggregation').getOrCreate()"
   ]
  },
  {
   "cell_type": "code",
   "execution_count": 194,
   "metadata": {},
   "outputs": [],
   "source": [
    "data = spark.read.csv('./Suicides in India 2001-2012.csv',inferSchema=True,header=True)"
   ]
  },
  {
   "cell_type": "code",
   "execution_count": 195,
   "metadata": {},
   "outputs": [
    {
     "name": "stdout",
     "output_type": "stream",
     "text": [
      "root\n",
      " |-- State: string (nullable = true)\n",
      " |-- Year: integer (nullable = true)\n",
      " |-- Type_code: string (nullable = true)\n",
      " |-- Type: string (nullable = true)\n",
      " |-- Gender: string (nullable = true)\n",
      " |-- Age_group: string (nullable = true)\n",
      " |-- Total: integer (nullable = true)\n",
      "\n"
     ]
    }
   ],
   "source": [
    "data.printSchema()"
   ]
  },
  {
   "cell_type": "code",
   "execution_count": 196,
   "metadata": {},
   "outputs": [
    {
     "data": {
      "text/plain": [
       "Row(State='A & N Islands', Year=2001, Type_code='Causes', Type='Illness (Aids/STD)', Gender='Female', Age_group='0-14', Total=0)"
      ]
     },
     "execution_count": 196,
     "metadata": {},
     "output_type": "execute_result"
    }
   ],
   "source": [
    "data.head()"
   ]
  },
  {
   "cell_type": "code",
   "execution_count": 197,
   "metadata": {},
   "outputs": [
    {
     "name": "stdout",
     "output_type": "stream",
     "text": [
      "+--------------------+------------------+------------------+\n",
      "|           Type_code|         avg(Year)|        avg(Total)|\n",
      "+--------------------+------------------+------------------+\n",
      "|    Education_Status|            2006.5| 598.6558388157895|\n",
      "|Professional_Profile|2006.5021618659034| 29.21549641718937|\n",
      "|       Means_adopted|            2006.5| 21.66563988095238|\n",
      "|       Social_Status|            2006.5| 957.8493421052632|\n",
      "|              Causes|            2006.5|13.195732600732601|\n",
      "+--------------------+------------------+------------------+\n",
      "\n"
     ]
    }
   ],
   "source": [
    "data.groupBy('Type_code').mean().show()"
   ]
  },
  {
   "cell_type": "code",
   "execution_count": 37,
   "metadata": {},
   "outputs": [
    {
     "name": "stdout",
     "output_type": "stream",
     "text": [
      "+--------------------+-----------------+------------------+\n",
      "|                Type|        avg(Year)|        avg(Total)|\n",
      "+--------------------+-----------------+------------------+\n",
      "|Fall in Social Re...|           2006.5|3.2057142857142855|\n",
      "|By touching elect...|           2006.5|2.5752380952380953|\n",
      "|       Never Married|           2006.5|1047.0427631578948|\n",
      "|    Property Dispute|           2006.5| 4.440952380952381|\n",
      "|        No Education|           2006.5|1058.4111842105262|\n",
      "|By coming under r...|           2006.5| 10.78547619047619|\n",
      "|By Overdose of sl...|           2006.5|2.3714285714285714|\n",
      "|Farming/Agricultu...|           2006.5| 47.12452380952381|\n",
      "|             Student|           2006.5| 17.69595238095238|\n",
      "|     Family Problems|           2006.5| 81.41714285714286|\n",
      "|Other Causes (Ple...|           2006.5| 51.44047619047619|\n",
      "|             Divorce|           2006.5|0.9840476190476191|\n",
      "|Illegitimate Preg...|           2006.5|0.5938095238095238|\n",
      "|        By Fire-Arms|           2006.5|1.4985714285714287|\n",
      "|Others (Please Sp...|2006.514663362247| 64.59410711827068|\n",
      "|              Middle|           2006.5|1128.1940789473683|\n",
      "|By Consuming Othe...|           2006.5| 55.04238095238095|\n",
      "|By Jumping from (...|           2006.5| 1.874047619047619|\n",
      "|Post Graduate and...|           2006.5|24.588815789473685|\n",
      "|Failure in Examin...|           2006.5| 6.429761904761905|\n",
      "+--------------------+-----------------+------------------+\n",
      "only showing top 20 rows\n",
      "\n"
     ]
    }
   ],
   "source": [
    "data.groupBy('Type').mean().show()"
   ]
  },
  {
   "cell_type": "code",
   "execution_count": 198,
   "metadata": {},
   "outputs": [
    {
     "name": "stdout",
     "output_type": "stream",
     "text": [
      "+---------+------------------+------------------+\n",
      "|Age_group|         avg(Year)|        avg(Total)|\n",
      "+---------+------------------+------------------+\n",
      "|    15-29|2006.5015147159631|33.921610684828515|\n",
      "|   0-100+|            2006.5| 736.8071862348178|\n",
      "|      60+|2006.5003327860852| 7.696787504991791|\n",
      "|     0-14|2006.5006329535613| 2.185577542363471|\n",
      "|    30-44|2006.4997234084924| 32.56254287168367|\n",
      "|    45-59|2006.5001550524964| 19.60698622247818|\n",
      "+---------+------------------+------------------+\n",
      "\n"
     ]
    }
   ],
   "source": [
    "data.groupBy('Age_group').mean().show()"
   ]
  },
  {
   "cell_type": "code",
   "execution_count": 199,
   "metadata": {},
   "outputs": [
    {
     "name": "stdout",
     "output_type": "stream",
     "text": [
      "+-----------------+------------------+--------------------+\n",
      "|            State|         avg(Year)|          avg(Total)|\n",
      "+-----------------+------------------+--------------------+\n",
      "|         Nagaland|2006.4987322893362| 0.25771812080536916|\n",
      "|        Karnataka|            2006.5|  108.18978209658421|\n",
      "|           Odisha|  2006.50080989545|  39.351200117802975|\n",
      "|           Kerala| 2006.497495580436|   79.39687684148497|\n",
      "|       Tamil Nadu|2006.4997052755673|  120.64412024756852|\n",
      "|     Chhattisgarh|  2006.50029455081|   44.52930780559647|\n",
      "|   Andhra Pradesh|2006.4997791194228|  119.87321454866735|\n",
      "|      Lakshadweep|2006.5002996703627|0.007491759065028...|\n",
      "|   Madhya Pradesh|            2006.5|   66.48041813898705|\n",
      "|           Punjab| 2006.500221271574|   6.837291635934504|\n",
      "|          Manipur|2006.5013432835822|  0.3137313432835821|\n",
      "|      Daman & Diu| 2006.504172876304| 0.20730253353204173|\n",
      "|  Jammu & Kashmir|2006.5012572104717|   2.192131341517527|\n",
      "|              Goa| 2006.499482171919|   2.568871134783252|\n",
      "|          Mizoram|2006.4926525159567|  0.6165949235564792|\n",
      "| Himachal Pradesh|2006.5001476232653|   3.921169176262179|\n",
      "|       Puducherry|2006.5011887072808|   4.776225854383358|\n",
      "|          Haryana|  2006.50029455081|   21.67540500736377|\n",
      "|Total (All India)|            2006.5|   9332.891025641025|\n",
      "|        Jharkhand| 2006.501400147384|   7.327929255711127|\n",
      "+-----------------+------------------+--------------------+\n",
      "only showing top 20 rows\n",
      "\n"
     ]
    }
   ],
   "source": [
    "data.groupBy('State').mean().show()"
   ]
  },
  {
   "cell_type": "code",
   "execution_count": 200,
   "metadata": {},
   "outputs": [
    {
     "name": "stdout",
     "output_type": "stream",
     "text": [
      "+-----------------+\n",
      "|    Average Total|\n",
      "+-----------------+\n",
      "|55.03447724182065|\n",
      "+-----------------+\n",
      "\n"
     ]
    }
   ],
   "source": [
    "from pyspark.sql.functions import countDistinct,avg,stddev,format_number\n",
    "data.select(avg('Total').alias('Average Total')).show()\n",
    "\n"
   ]
  },
  {
   "cell_type": "code",
   "execution_count": 201,
   "metadata": {},
   "outputs": [],
   "source": [
    "dev = data.select(stddev(\"Total\"))\n"
   ]
  },
  {
   "cell_type": "code",
   "execution_count": 202,
   "metadata": {},
   "outputs": [
    {
     "name": "stdout",
     "output_type": "stream",
     "text": [
      "+------------------------+\n",
      "|Total_Standard_Deviation|\n",
      "+------------------------+\n",
      "|                  792.75|\n",
      "+------------------------+\n",
      "\n"
     ]
    }
   ],
   "source": [
    "dev.select(format_number('stddev_samp(Total)',2).alias('Total_Standard_Deviation')).show()"
   ]
  },
  {
   "cell_type": "code",
   "execution_count": 52,
   "metadata": {},
   "outputs": [
    {
     "name": "stdout",
     "output_type": "stream",
     "text": [
      "+-------------+----+----------------+--------------------+------+---------+-----+\n",
      "|        State|Year|       Type_code|                Type|Gender|Age_group|Total|\n",
      "+-------------+----+----------------+--------------------+------+---------+-----+\n",
      "|A & N Islands|2001|Education_Status|             Diploma|Female|   0-100+|    0|\n",
      "|A & N Islands|2001|   Social_Status|       Never Married|Female|   0-100+|   12|\n",
      "|A & N Islands|2001|Education_Status|        No Education|Female|   0-100+|    4|\n",
      "|A & N Islands|2001|Education_Status|Post Graduate and...|Female|   0-100+|    0|\n",
      "|A & N Islands|2001|Education_Status|              Middle|Female|   0-100+|   33|\n",
      "|A & N Islands|2001|Education_Status|            Graduate|Female|   0-100+|    0|\n",
      "|A & N Islands|2001|Education_Status|Hr. Secondary/Int...|Female|   0-100+|    0|\n",
      "|A & N Islands|2001|Education_Status|             Primary|Female|   0-100+|    7|\n",
      "|A & N Islands|2001|Education_Status|Matriculate/Secon...|Female|   0-100+|    6|\n",
      "|A & N Islands|2001|Education_Status|Matriculate/Secon...|  Male|   0-100+|   10|\n",
      "|A & N Islands|2001|Education_Status|Post Graduate and...|  Male|   0-100+|    0|\n",
      "|A & N Islands|2001|Education_Status|            Graduate|  Male|   0-100+|    1|\n",
      "|A & N Islands|2001|Education_Status|             Diploma|  Male|   0-100+|    0|\n",
      "|A & N Islands|2001|Education_Status|        No Education|  Male|   0-100+|    7|\n",
      "|A & N Islands|2001|Education_Status|              Middle|  Male|   0-100+|   39|\n",
      "|A & N Islands|2001|Education_Status|Hr. Secondary/Int...|  Male|   0-100+|    2|\n",
      "|A & N Islands|2001|Education_Status|             Primary|  Male|   0-100+|   20|\n",
      "|A & N Islands|2001|   Social_Status|             Married|Female|   0-100+|   38|\n",
      "|A & N Islands|2001|   Social_Status|           Seperated|Female|   0-100+|    0|\n",
      "|A & N Islands|2001|   Social_Status|     Widowed/Widower|Female|   0-100+|    0|\n",
      "+-------------+----+----------------+--------------------+------+---------+-----+\n",
      "only showing top 20 rows\n",
      "\n",
      "+-------------+----+---------+--------------------+------+---------+-----+\n",
      "|        State|Year|Type_code|                Type|Gender|Age_group|Total|\n",
      "+-------------+----+---------+--------------------+------+---------+-----+\n",
      "|A & N Islands|2001|   Causes|       Dowry Dispute|Female|      60+|    0|\n",
      "|A & N Islands|2001|   Causes|Drug Abuse/Addiction|Female|      60+|    0|\n",
      "|A & N Islands|2001|   Causes|Ideological Cause...|Female|      60+|    0|\n",
      "|A & N Islands|2001|   Causes|Bankruptcy or Sud...|Female|      60+|    0|\n",
      "|A & N Islands|2001|   Causes|Cancellation/Non-...|Female|      60+|    0|\n",
      "|A & N Islands|2001|   Causes|              Cancer|Female|      60+|    0|\n",
      "|A & N Islands|2001|   Causes|           Paralysis|Female|      60+|    0|\n",
      "|A & N Islands|2001|   Causes|             Divorce|Female|      60+|    0|\n",
      "|A & N Islands|2001|   Causes|  Illness (Aids/STD)|Female|      60+|    0|\n",
      "|A & N Islands|2001|   Causes|Physical Abuse (R...|Female|      60+|    0|\n",
      "|A & N Islands|2001|   Causes|Illegitimate Preg...|Female|      60+|    0|\n",
      "|A & N Islands|2001|   Causes|Insanity/Mental I...|Female|      60+|    1|\n",
      "|A & N Islands|2001|   Causes|Failure in Examin...|Female|      60+|    0|\n",
      "|A & N Islands|2001|   Causes|Other Prolonged I...|Female|      60+|    1|\n",
      "|A & N Islands|2001|   Causes|             Poverty|Female|      60+|    0|\n",
      "|A & N Islands|2001|   Causes|Fall in Social Re...|Female|      60+|    0|\n",
      "|A & N Islands|2001|   Causes|        Love Affairs|Female|      60+|    0|\n",
      "|A & N Islands|2001|   Causes|    Causes Not known|Female|      60+|    1|\n",
      "|A & N Islands|2001|   Causes|Professional/Care...|Female|      60+|    0|\n",
      "|A & N Islands|2001|   Causes|    Property Dispute|Female|      60+|    0|\n",
      "+-------------+----+---------+--------------------+------+---------+-----+\n",
      "only showing top 20 rows\n",
      "\n"
     ]
    }
   ],
   "source": [
    "data.orderBy('Age_group').show()\n",
    "\n",
    "data.orderBy(data['Age_group'].desc()).show()data.orderBy('Age_group').show()\n",
    "\n",
    "data.orderBy(data['Age_group'].desc()).show()"
   ]
  },
  {
   "cell_type": "code",
   "execution_count": 203,
   "metadata": {},
   "outputs": [
    {
     "name": "stdout",
     "output_type": "stream",
     "text": [
      "+-------------+----+---------+--------------------+------+---------+-----+\n",
      "|        State|Year|Type_code|                Type|Gender|Age_group|Total|\n",
      "+-------------+----+---------+--------------------+------+---------+-----+\n",
      "|A & N Islands|2001|   Causes|  Illness (Aids/STD)|Female|     0-14|    0|\n",
      "|A & N Islands|2001|   Causes|Bankruptcy or Sud...|Female|     0-14|    0|\n",
      "|A & N Islands|2001|   Causes|Cancellation/Non-...|Female|     0-14|    0|\n",
      "|A & N Islands|2001|   Causes|Physical Abuse (R...|Female|     0-14|    0|\n",
      "|A & N Islands|2001|   Causes|       Dowry Dispute|Female|     0-14|    0|\n",
      "|A & N Islands|2001|   Causes|     Family Problems|Female|     0-14|    0|\n",
      "|A & N Islands|2001|   Causes|Ideological Cause...|Female|     0-14|    0|\n",
      "|A & N Islands|2001|   Causes|Other Prolonged I...|Female|     0-14|    0|\n",
      "|A & N Islands|2001|   Causes|    Property Dispute|Female|     0-14|    0|\n",
      "|A & N Islands|2001|   Causes|Fall in Social Re...|Female|     0-14|    0|\n",
      "|A & N Islands|2001|   Causes|Illegitimate Preg...|Female|     0-14|    0|\n",
      "|A & N Islands|2001|   Causes|Failure in Examin...|Female|     0-14|    0|\n",
      "|A & N Islands|2001|   Causes|Insanity/Mental I...|Female|     0-14|    0|\n",
      "|A & N Islands|2001|   Causes|        Love Affairs|Female|     0-14|    1|\n",
      "|A & N Islands|2001|   Causes|Professional/Care...|Female|     0-14|    0|\n",
      "|A & N Islands|2001|   Causes|             Divorce|Female|     0-14|    0|\n",
      "|A & N Islands|2001|   Causes|Drug Abuse/Addiction|Female|     0-14|    0|\n",
      "|A & N Islands|2001|   Causes|Not having Childr...|Female|     0-14|    0|\n",
      "|A & N Islands|2001|   Causes|    Causes Not known|Female|     0-14|    0|\n",
      "|A & N Islands|2001|   Causes|        Unemployment|Female|     0-14|    0|\n",
      "+-------------+----+---------+--------------------+------+---------+-----+\n",
      "only showing top 20 rows\n",
      "\n",
      "+-----------+----+---------+--------------------+------+---------+-----+\n",
      "|      State|Year|Type_code|                Type|Gender|Age_group|Total|\n",
      "+-----------+----+---------+--------------------+------+---------+-----+\n",
      "|West Bengal|2001|   Causes|Physical Abuse (R...|Female|     0-14|    1|\n",
      "|West Bengal|2001|   Causes|Insanity/Mental I...|Female|     0-14|    2|\n",
      "|West Bengal|2001|   Causes|Bankruptcy or Sud...|Female|     0-14|    0|\n",
      "|West Bengal|2001|   Causes|             Poverty|Female|     0-14|    0|\n",
      "|West Bengal|2001|   Causes|Failure in Examin...|Female|     0-14|   34|\n",
      "|West Bengal|2001|   Causes|           Paralysis|Female|     0-14|    0|\n",
      "|West Bengal|2001|   Causes|Drug Abuse/Addiction|Female|     0-14|    0|\n",
      "|West Bengal|2001|   Causes|Professional/Care...|Female|     0-14|    0|\n",
      "|West Bengal|2001|   Causes|    Property Dispute|Female|     0-14|    0|\n",
      "|West Bengal|2001|   Causes|    Causes Not known|Female|     0-14|  120|\n",
      "|West Bengal|2001|   Causes|  Illness (Aids/STD)|Female|     0-14|    0|\n",
      "|West Bengal|2001|   Causes|Other Causes (Ple...|Female|     0-14|   73|\n",
      "|West Bengal|2001|   Causes|Fall in Social Re...|Female|     0-14|    0|\n",
      "|West Bengal|2001|   Causes|Not having Childr...|Female|     0-14|    0|\n",
      "|West Bengal|2001|   Causes|        Unemployment|Female|     0-14|    0|\n",
      "|West Bengal|2001|   Causes|              Cancer|Female|     0-14|    0|\n",
      "|West Bengal|2001|   Causes|        Love Affairs|Female|     0-14|   41|\n",
      "|West Bengal|2001|   Causes|       Dowry Dispute|Female|     0-14|    0|\n",
      "|West Bengal|2001|   Causes|Ideological Cause...|Female|     0-14|    0|\n",
      "|West Bengal|2001|   Causes|Other Prolonged I...|Female|     0-14|    2|\n",
      "+-----------+----+---------+--------------------+------+---------+-----+\n",
      "only showing top 20 rows\n",
      "\n"
     ]
    }
   ],
   "source": [
    "data.orderBy('State').show()\n",
    "\n",
    "data.orderBy(data['State'].desc()).show()\n"
   ]
  },
  {
   "cell_type": "code",
   "execution_count": 209,
   "metadata": {},
   "outputs": [
    {
     "name": "stdout",
     "output_type": "stream",
     "text": [
      "+-------------+----+---------+--------------------+------+---------+-----+\n",
      "|        State|Year|Type_code|                Type|Gender|Age_group|Total|\n",
      "+-------------+----+---------+--------------------+------+---------+-----+\n",
      "|A & N Islands|2003|   Causes|Bankruptcy or Sud...|Female|     0-14|    0|\n",
      "|A & N Islands|2005|   Causes|Bankruptcy or Sud...|Female|     0-14|    0|\n",
      "|A & N Islands|2003|   Causes|Bankruptcy or Sud...|  Male|     0-14|    0|\n",
      "|A & N Islands|2001|   Causes|Bankruptcy or Sud...|Female|    45-59|    0|\n",
      "|A & N Islands|2003|   Causes|Bankruptcy or Sud...|Female|    15-29|    0|\n",
      "|A & N Islands|2001|   Causes|Bankruptcy or Sud...|Female|    15-29|    0|\n",
      "|A & N Islands|2003|   Causes|Bankruptcy or Sud...|  Male|    15-29|    0|\n",
      "|A & N Islands|2001|   Causes|Bankruptcy or Sud...|Female|    30-44|    0|\n",
      "|A & N Islands|2003|   Causes|Bankruptcy or Sud...|Female|    30-44|    0|\n",
      "|A & N Islands|2001|   Causes|Bankruptcy or Sud...|  Male|    15-29|    0|\n",
      "|A & N Islands|2003|   Causes|Bankruptcy or Sud...|  Male|    30-44|    0|\n",
      "|A & N Islands|2001|   Causes|Bankruptcy or Sud...|  Male|      60+|    0|\n",
      "|A & N Islands|2003|   Causes|Bankruptcy or Sud...|Female|    45-59|    0|\n",
      "|A & N Islands|2004|   Causes|Bankruptcy or Sud...|  Male|     0-14|    0|\n",
      "|A & N Islands|2004|   Causes|Bankruptcy or Sud...|  Male|      60+|    0|\n",
      "|A & N Islands|2004|   Causes|Bankruptcy or Sud...|Female|    15-29|    0|\n",
      "|A & N Islands|2001|   Causes|Bankruptcy or Sud...|  Male|     0-14|    0|\n",
      "|A & N Islands|2004|   Causes|Bankruptcy or Sud...|  Male|    15-29|    1|\n",
      "|A & N Islands|2001|   Causes|Bankruptcy or Sud...|  Male|    30-44|    0|\n",
      "|A & N Islands|2004|   Causes|Bankruptcy or Sud...|Female|    30-44|    0|\n",
      "+-------------+----+---------+--------------------+------+---------+-----+\n",
      "only showing top 20 rows\n",
      "\n",
      "+-------------+----+-------------+---------------+------+---------+-----+\n",
      "|        State|Year|    Type_code|           Type|Gender|Age_group|Total|\n",
      "+-------------+----+-------------+---------------+------+---------+-----+\n",
      "|A & N Islands|2002|Social_Status|Widowed/Widower|Female|   0-100+|    0|\n",
      "|A & N Islands|2012|Social_Status|Widowed/Widower|Female|   0-100+|    0|\n",
      "|A & N Islands|2002|Social_Status|Widowed/Widower|  Male|   0-100+|    0|\n",
      "|A & N Islands|2001|Social_Status|Widowed/Widower|Female|   0-100+|    0|\n",
      "|A & N Islands|2003|Social_Status|Widowed/Widower|Female|   0-100+|    0|\n",
      "|A & N Islands|2007|Social_Status|Widowed/Widower|  Male|   0-100+|    0|\n",
      "|A & N Islands|2011|Social_Status|Widowed/Widower|  Male|   0-100+|    0|\n",
      "|A & N Islands|2008|Social_Status|Widowed/Widower|Female|   0-100+|    0|\n",
      "|A & N Islands|2003|Social_Status|Widowed/Widower|  Male|   0-100+|    0|\n",
      "|A & N Islands|2008|Social_Status|Widowed/Widower|  Male|   0-100+|    0|\n",
      "|A & N Islands|2004|Social_Status|Widowed/Widower|  Male|   0-100+|    0|\n",
      "|A & N Islands|2009|Social_Status|Widowed/Widower|Female|   0-100+|    0|\n",
      "|A & N Islands|2005|Social_Status|Widowed/Widower|  Male|   0-100+|    1|\n",
      "|A & N Islands|2009|Social_Status|Widowed/Widower|  Male|   0-100+|    0|\n",
      "|A & N Islands|2006|Social_Status|Widowed/Widower|  Male|   0-100+|    0|\n",
      "|A & N Islands|2010|Social_Status|Widowed/Widower|Female|   0-100+|    2|\n",
      "|A & N Islands|2001|Social_Status|Widowed/Widower|  Male|   0-100+|    0|\n",
      "|A & N Islands|2010|Social_Status|Widowed/Widower|  Male|   0-100+|    3|\n",
      "|A & N Islands|2005|Social_Status|Widowed/Widower|Female|   0-100+|    0|\n",
      "|A & N Islands|2011|Social_Status|Widowed/Widower|Female|   0-100+|    0|\n",
      "+-------------+----+-------------+---------------+------+---------+-----+\n",
      "only showing top 20 rows\n",
      "\n"
     ]
    }
   ],
   "source": [
    "data.orderBy('Type').show()\n",
    "\n",
    "data.orderBy(data['Type'].desc()).show()"
   ]
  },
  {
   "cell_type": "code",
   "execution_count": 208,
   "metadata": {},
   "outputs": [
    {
     "name": "stdout",
     "output_type": "stream",
     "text": [
      "+-------------+----+---------+--------------------+------+---------+-----+\n",
      "|        State|Year|Type_code|                Type|Gender|Age_group|Total|\n",
      "+-------------+----+---------+--------------------+------+---------+-----+\n",
      "|A & N Islands|2001|   Causes|  Illness (Aids/STD)|Female|     0-14|    0|\n",
      "|A & N Islands|2001|   Causes|Bankruptcy or Sud...|Female|     0-14|    0|\n",
      "|A & N Islands|2001|   Causes|Cancellation/Non-...|Female|     0-14|    0|\n",
      "|A & N Islands|2001|   Causes|Physical Abuse (R...|Female|     0-14|    0|\n",
      "|A & N Islands|2001|   Causes|       Dowry Dispute|Female|     0-14|    0|\n",
      "|A & N Islands|2001|   Causes|     Family Problems|Female|     0-14|    0|\n",
      "|A & N Islands|2001|   Causes|Ideological Cause...|Female|     0-14|    0|\n",
      "|A & N Islands|2001|   Causes|Other Prolonged I...|Female|     0-14|    0|\n",
      "|A & N Islands|2001|   Causes|    Property Dispute|Female|     0-14|    0|\n",
      "|A & N Islands|2001|   Causes|Fall in Social Re...|Female|     0-14|    0|\n",
      "|A & N Islands|2001|   Causes|Illegitimate Preg...|Female|     0-14|    0|\n",
      "|A & N Islands|2001|   Causes|Failure in Examin...|Female|     0-14|    0|\n",
      "|A & N Islands|2001|   Causes|Insanity/Mental I...|Female|     0-14|    0|\n",
      "|A & N Islands|2001|   Causes|        Love Affairs|Female|     0-14|    1|\n",
      "|A & N Islands|2001|   Causes|Professional/Care...|Female|     0-14|    0|\n",
      "|A & N Islands|2001|   Causes|             Divorce|Female|     0-14|    0|\n",
      "|A & N Islands|2001|   Causes|Drug Abuse/Addiction|Female|     0-14|    0|\n",
      "|A & N Islands|2001|   Causes|Not having Childr...|Female|     0-14|    0|\n",
      "|A & N Islands|2001|   Causes|    Causes Not known|Female|     0-14|    0|\n",
      "|A & N Islands|2001|   Causes|        Unemployment|Female|     0-14|    0|\n",
      "+-------------+----+---------+--------------------+------+---------+-----+\n",
      "only showing top 20 rows\n",
      "\n",
      "+-------------+----+-------------+---------------+------+---------+-----+\n",
      "|        State|Year|    Type_code|           Type|Gender|Age_group|Total|\n",
      "+-------------+----+-------------+---------------+------+---------+-----+\n",
      "|A & N Islands|2001|Social_Status|        Married|Female|   0-100+|   38|\n",
      "|A & N Islands|2003|Social_Status|       Divorcee|Female|   0-100+|    0|\n",
      "|A & N Islands|2001|Social_Status|      Seperated|Female|   0-100+|    0|\n",
      "|A & N Islands|2001|Social_Status|Widowed/Widower|Female|   0-100+|    0|\n",
      "|A & N Islands|2001|Social_Status|       Divorcee|Female|   0-100+|    0|\n",
      "|A & N Islands|2001|Social_Status|  Never Married|Female|   0-100+|   12|\n",
      "|A & N Islands|2001|Social_Status|Widowed/Widower|  Male|   0-100+|    0|\n",
      "|A & N Islands|2001|Social_Status|      Seperated|  Male|   0-100+|    0|\n",
      "|A & N Islands|2001|Social_Status|        Married|  Male|   0-100+|   55|\n",
      "|A & N Islands|2001|Social_Status|  Never Married|  Male|   0-100+|   24|\n",
      "|A & N Islands|2001|Social_Status|       Divorcee|  Male|   0-100+|    0|\n",
      "|A & N Islands|2002|Social_Status|  Never Married|Female|   0-100+|   17|\n",
      "|A & N Islands|2002|Social_Status|      Seperated|Female|   0-100+|    0|\n",
      "|A & N Islands|2002|Social_Status|       Divorcee|Female|   0-100+|    0|\n",
      "|A & N Islands|2002|Social_Status|        Married|Female|   0-100+|   36|\n",
      "|A & N Islands|2002|Social_Status|Widowed/Widower|Female|   0-100+|    0|\n",
      "|A & N Islands|2002|Social_Status|       Divorcee|  Male|   0-100+|    0|\n",
      "|A & N Islands|2002|Social_Status|  Never Married|  Male|   0-100+|   37|\n",
      "|A & N Islands|2002|Social_Status|Widowed/Widower|  Male|   0-100+|    0|\n",
      "|A & N Islands|2002|Social_Status|      Seperated|  Male|   0-100+|    0|\n",
      "+-------------+----+-------------+---------------+------+---------+-----+\n",
      "only showing top 20 rows\n",
      "\n"
     ]
    }
   ],
   "source": [
    "data.orderBy('Type_code').show()\n",
    "\n",
    "data.orderBy(data['Type_code'].desc()).show()"
   ]
  },
  {
   "cell_type": "code",
   "execution_count": 56,
   "metadata": {},
   "outputs": [
    {
     "name": "stdout",
     "output_type": "stream",
     "text": [
      "+-------------+----+---------+--------------------+------+---------+-----+\n",
      "|        State|Year|Type_code|                Type|Gender|Age_group|Total|\n",
      "+-------------+----+---------+--------------------+------+---------+-----+\n",
      "|A & N Islands|2001|   Causes|  Illness (Aids/STD)|Female|     0-14|    0|\n",
      "|A & N Islands|2001|   Causes|Bankruptcy or Sud...|Female|     0-14|    0|\n",
      "|A & N Islands|2001|   Causes|Cancellation/Non-...|Female|     0-14|    0|\n",
      "|A & N Islands|2001|   Causes|Physical Abuse (R...|Female|     0-14|    0|\n",
      "|A & N Islands|2001|   Causes|       Dowry Dispute|Female|     0-14|    0|\n",
      "|A & N Islands|2001|   Causes|     Family Problems|Female|     0-14|    0|\n",
      "|A & N Islands|2001|   Causes|Ideological Cause...|Female|     0-14|    0|\n",
      "|A & N Islands|2001|   Causes|Other Prolonged I...|Female|     0-14|    0|\n",
      "|A & N Islands|2001|   Causes|    Property Dispute|Female|     0-14|    0|\n",
      "|A & N Islands|2001|   Causes|Fall in Social Re...|Female|     0-14|    0|\n",
      "|A & N Islands|2001|   Causes|Illegitimate Preg...|Female|     0-14|    0|\n",
      "|A & N Islands|2001|   Causes|Failure in Examin...|Female|     0-14|    0|\n",
      "|A & N Islands|2001|   Causes|Insanity/Mental I...|Female|     0-14|    0|\n",
      "|A & N Islands|2001|   Causes|        Love Affairs|Female|     0-14|    1|\n",
      "|A & N Islands|2001|   Causes|Professional/Care...|Female|     0-14|    0|\n",
      "|A & N Islands|2001|   Causes|             Divorce|Female|     0-14|    0|\n",
      "|A & N Islands|2001|   Causes|Drug Abuse/Addiction|Female|     0-14|    0|\n",
      "|A & N Islands|2001|   Causes|Not having Childr...|Female|     0-14|    0|\n",
      "|A & N Islands|2001|   Causes|    Causes Not known|Female|     0-14|    0|\n",
      "|A & N Islands|2001|   Causes|        Unemployment|Female|     0-14|    0|\n",
      "+-------------+----+---------+--------------------+------+---------+-----+\n",
      "only showing top 20 rows\n",
      "\n",
      "+-------------+----+---------+--------------------+------+---------+-----+\n",
      "|        State|Year|Type_code|                Type|Gender|Age_group|Total|\n",
      "+-------------+----+---------+--------------------+------+---------+-----+\n",
      "|A & N Islands|2012|   Causes|Failure in Examin...|Female|     0-14|    0|\n",
      "|A & N Islands|2012|   Causes|              Cancer|Female|     0-14|    0|\n",
      "|A & N Islands|2012|   Causes|    Causes Not known|Female|     0-14|    0|\n",
      "|A & N Islands|2012|   Causes|       Dowry Dispute|Female|     0-14|    0|\n",
      "|A & N Islands|2012|   Causes|Ideological Cause...|Female|     0-14|    0|\n",
      "|A & N Islands|2012|   Causes|        Love Affairs|Female|     0-14|    0|\n",
      "|A & N Islands|2012|   Causes|Other Causes (Ple...|Female|     0-14|    1|\n",
      "|A & N Islands|2012|   Causes|        Unemployment|Female|     0-14|    0|\n",
      "|A & N Islands|2012|   Causes|           Paralysis|Female|     0-14|    0|\n",
      "|A & N Islands|2012|   Causes|Cancellation/Non-...|Female|     0-14|    0|\n",
      "|A & N Islands|2012|   Causes|Other Prolonged I...|Female|     0-14|    0|\n",
      "|A & N Islands|2012|   Causes|Physical Abuse (R...|Female|     0-14|    0|\n",
      "|A & N Islands|2012|   Causes|Fall in Social Re...|Female|     0-14|    0|\n",
      "|A & N Islands|2012|   Causes|  Illness (Aids/STD)|Female|     0-14|    0|\n",
      "|A & N Islands|2012|   Causes|Insanity/Mental I...|Female|     0-14|    0|\n",
      "|A & N Islands|2012|   Causes|Professional/Care...|Female|     0-14|    0|\n",
      "|A & N Islands|2012|   Causes|    Property Dispute|Female|     0-14|    0|\n",
      "|A & N Islands|2012|   Causes|             Divorce|Female|     0-14|    0|\n",
      "|A & N Islands|2012|   Causes|Death of Dear Person|Female|     0-14|    0|\n",
      "|A & N Islands|2012|   Causes|     Family Problems|Female|     0-14|    0|\n",
      "+-------------+----+---------+--------------------+------+---------+-----+\n",
      "only showing top 20 rows\n",
      "\n"
     ]
    }
   ],
   "source": [
    "data.orderBy('Year').show()\n",
    "\n",
    "data.orderBy(data['Year'].desc()).show()"
   ]
  },
  {
   "cell_type": "code",
   "execution_count": 59,
   "metadata": {},
   "outputs": [
    {
     "data": {
      "image/png": "[encoded data removed]",
      "text/plain": [
       "<Figure size 432x288 with 1 Axes>"
      ]
     },
     "metadata": {},
     "output_type": "display_data"
    }
   ],
   "source": [
    "import numpy as np\n",
    "import matplotlib.pyplot as plt\n",
    "%matplotlib inline\n",
    "\n",
    " \n",
    "StateArr = np.array(data.select('Gender').collect())\n",
    "plt.hist(StateArr)\n",
    "plt.show()\n",
    "\n",
    "\n"
   ]
  },
  {
   "cell_type": "code",
   "execution_count": 60,
   "metadata": {},
   "outputs": [
    {
     "data": {
      "image/png": "[encoded data removed]",
      "text/plain": [
       "<Figure size 432x288 with 1 Axes>"
      ]
     },
     "metadata": {},
     "output_type": "display_data"
    }
   ],
   "source": [
    "import numpy as np\n",
    "import matplotlib.pyplot as plt\n",
    "%matplotlib inline\n",
    "\n",
    " \n",
    "StateArr = np.array(data.select('State').collect())\n",
    "plt.hist(StateArr)\n",
    "plt.show()\n"
   ]
  },
  {
   "cell_type": "code",
   "execution_count": 61,
   "metadata": {},
   "outputs": [
    {
     "data": {
      "image/png": "[encoded data removed]",
      "text/plain": [
       "<Figure size 432x288 with 1 Axes>"
      ]
     },
     "metadata": {},
     "output_type": "display_data"
    }
   ],
   "source": [
    "import numpy as np\n",
    "import matplotlib.pyplot as plt\n",
    "%matplotlib inline\n",
    "\n",
    " \n",
    "StateArr = np.array(data.select('Type').collect())\n",
    "plt.hist(StateArr)\n",
    "plt.show()"
   ]
  },
  {
   "cell_type": "code",
   "execution_count": 205,
   "metadata": {},
   "outputs": [
    {
     "data": {
      "image/png": "[encoded data removed]",
      "text/plain": [
       "<Figure size 432x288 with 1 Axes>"
      ]
     },
     "metadata": {},
     "output_type": "display_data"
    }
   ],
   "source": [
    "import numpy as np\n",
    "import matplotlib.pyplot as plt\n",
    "%matplotlib inline\n",
    "\n",
    " \n",
    "StateArr = np.array(data.select('Type_code').collect())\n",
    "plt.hist(StateArr)\n",
    "plt.show()"
   ]
  },
  {
   "cell_type": "code",
   "execution_count": 210,
   "metadata": {},
   "outputs": [
    {
     "data": {
      "image/png": "[encoded data removed]",
      "text/plain": [
       "<Figure size 432x288 with 1 Axes>"
      ]
     },
     "metadata": {},
     "output_type": "display_data"
    }
   ],
   "source": [
    "import numpy as np\n",
    "import matplotlib.pyplot as plt\n",
    "%matplotlib inline\n",
    "\n",
    " \n",
    "StateArr = np.array(data.select('Age_group').collect())\n",
    "plt.hist(StateArr)\n",
    "plt.show()\n"
   ]
  },
  {
   "cell_type": "code",
   "execution_count": null,
   "metadata": {},
   "outputs": [],
   "source": []
  },
  {
   "cell_type": "code",
   "execution_count": null,
   "metadata": {},
   "outputs": [],
   "source": []
  },
  {
   "cell_type": "code",
   "execution_count": null,
   "metadata": {},
   "outputs": [],
   "source": []
  },
  {
   "cell_type": "code",
   "execution_count": null,
   "metadata": {},
   "outputs": [],
   "source": []
  },
  {
   "cell_type": "code",
   "execution_count": null,
   "metadata": {},
   "outputs": [],
   "source": []
  },
  {
   "cell_type": "code",
   "execution_count": 156,
   "metadata": {},
   "outputs": [],
   "source": []
  },
  {
   "cell_type": "code",
   "execution_count": null,
   "metadata": {},
   "outputs": [],
   "source": []
  },
  {
   "cell_type": "code",
   "execution_count": null,
   "metadata": {},
   "outputs": [],
   "source": [
    "\n"
   ]
  },
  {
   "cell_type": "code",
   "execution_count": 118,
   "metadata": {},
   "outputs": [],
   "source": []
  },
  {
   "cell_type": "code",
   "execution_count": 119,
   "metadata": {},
   "outputs": [],
   "source": []
  },
  {
   "cell_type": "code",
   "execution_count": null,
   "metadata": {},
   "outputs": [],
   "source": []
  },
  {
   "cell_type": "code",
   "execution_count": null,
   "metadata": {},
   "outputs": [],
   "source": []
  }
 ],
 "metadata": {
  "kernelspec": {
   "display_name": "Python 3",
   "language": "python",
   "name": "python3"
  },
  "language_info": {
   "codemirror_mode": {
    "name": "ipython",
    "version": 3
   },
   "file_extension": ".py",
   "mimetype": "text/x-python",
   "name": "python",
   "nbconvert_exporter": "python",
   "pygments_lexer": "ipython3",
   "version": "3.5.2"
  }
 },
 "nbformat": 4,
 "nbformat_minor": 2
}
